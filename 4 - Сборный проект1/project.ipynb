{
 "cells": [
  {
   "cell_type": "markdown",
   "metadata": {},
   "source": [
    "**Описание проекта**  \n",
    "Вы работаете в интернет-магазине «Стримчик», который продаёт по всему миру компьютерные игры. Из открытых источников доступны исторические данные о продажах игр, оценки пользователей и экспертов, жанры и платформы (например, Xbox или PlayStation). Вам нужно выявить определяющие успешность игры закономерности. Это позволит сделать ставку на потенциально популярный продукт и спланировать рекламные кампании.  \n",
    "Перед вами данные до 2016 года. Представим, что сейчас декабрь 2016 г., и вы планируете кампанию на 2017-й. Нужно отработать принцип работы с данными. Неважно, прогнозируете ли вы продажи на 2017 год по данным 2016-го или же 2027-й — по данным 2026 года.  \n",
    "В наборе данных попадается аббревиатура ESRB (Entertainment Software Rating Board) — это ассоциация, определяющая возрастной рейтинг компьютерных игр. ESRB оценивает игровой контент и присваивает ему подходящую возрастную категорию, например, «Для взрослых», «Для детей младшего возраста» или «Для подростков»."
   ]
  },
  {
   "cell_type": "markdown",
   "metadata": {},
   "source": [
    "\n",
    "**Описание данных**\n",
    "- Name — название игры\n",
    "- Platform — платформа\n",
    "- Year_of_Release — год выпуска\n",
    "- Genre — жанр игры\n",
    "- NA_sales — продажи в Северной Америке (миллионы проданных копий)\n",
    "- EU_sales — продажи в Европе (миллионы проданных копий)\n",
    "- JP_sales — продажи в Японии (миллионы проданных копий)\n",
    "- Other_sales — продажи в других странах (миллионы проданных копий)\n",
    "- Critic_Score — оценка критиков (максимум 100)\n",
    "- User_Score — оценка пользователей (максимум 10)\n",
    "- Rating — рейтинг от организации ESRB (англ. Entertainment Software Rating Board). Эта ассоциация определяет рейтинг компьютерных игр и присваивает им подходящую возрастную категорию.\n",
    "Данные за 2016 год могут быть неполными."
   ]
  },
  {
   "cell_type": "markdown",
   "metadata": {},
   "source": [
    "**Шаг 1. Откроем файл с данными и изучим общую информацию**"
   ]
  },
  {
   "cell_type": "code",
   "execution_count": null,
   "metadata": {},
   "outputs": [],
   "source": [
    "import pandas as pd\n",
    "import numpy as np\n",
    "import matplotlib.pyplot as plt\n",
    "from scipy import stats as st\n",
    "import math\n",
    "import seaborn as sns"
   ]
  },
  {
   "cell_type": "code",
   "execution_count": null,
   "metadata": {},
   "outputs": [],
   "source": [
    "games = pd.read_csv('/datasets/games.csv')\n",
    "games.head()"
   ]
  },
  {
   "cell_type": "code",
   "execution_count": null,
   "metadata": {},
   "outputs": [],
   "source": [
    "games.describe()"
   ]
  },
  {
   "cell_type": "code",
   "execution_count": null,
   "metadata": {},
   "outputs": [],
   "source": [
    "games.info()"
   ]
  },
  {
   "cell_type": "markdown",
   "metadata": {},
   "source": [
    "Оценим процент NaN в столбцах."
   ]
  },
  {
   "cell_type": "code",
   "execution_count": null,
   "metadata": {},
   "outputs": [],
   "source": [
    "games.isnull().sum().sort_values(ascending = False)/games.shape[0]*100"
   ]
  },
  {
   "cell_type": "markdown",
   "metadata": {},
   "source": [
    "Столбец Critic_Score. Оценку критиков мы не можем просчитать или восстановить, заполним для удобства NaN произвольным большим числом 9999. Так же поступим со столбцом user_score и приведем его к float. Не забыть == 'tbd', это те же пропуски."
   ]
  },
  {
   "cell_type": "markdown",
   "metadata": {},
   "source": [
    "Столбец Year_of_Release содержит пропуски и не является целочисленным, также заполним пропуски произвольным большим числом, а затем - преобразуем к нужному типу.  "
   ]
  },
  {
   "cell_type": "code",
   "execution_count": null,
   "metadata": {},
   "outputs": [],
   "source": [
    "rating = pd.read_csv('/datasets/rating.csv')\n",
    "rating.head()"
   ]
  },
  {
   "cell_type": "code",
   "execution_count": null,
   "metadata": {},
   "outputs": [],
   "source": [
    "rating.describe()"
   ]
  },
  {
   "cell_type": "code",
   "execution_count": null,
   "metadata": {},
   "outputs": [],
   "source": [
    "rating.info()"
   ]
  },
  {
   "cell_type": "markdown",
   "metadata": {},
   "source": [
    "**Шаг 2. Подготовим данные**"
   ]
  },
  {
   "cell_type": "markdown",
   "metadata": {},
   "source": [
    "Заменим названия столбцов (приведем к нижнему регистру)."
   ]
  },
  {
   "cell_type": "code",
   "execution_count": null,
   "metadata": {},
   "outputs": [],
   "source": [
    "games.columns = games.columns.str.lower()\n",
    "games.columns.tolist()"
   ]
  },
  {
   "cell_type": "markdown",
   "metadata": {},
   "source": [
    "Посмотрим, какие типы данных нужно преобразовать. NaN в столбце Year_of_Release мы не можем заполнить с помощью каких-либо умозаключений, поэтому заполним их каким-нибудь большим числом, преобразуем данные столбца к нужному типу. Так же заполним для удобства большим числом NaN в столбцах critic_score и user_score."
   ]
  },
  {
   "cell_type": "code",
   "execution_count": null,
   "metadata": {},
   "outputs": [],
   "source": [
    "games['year_of_release'] = games['year_of_release'].fillna(9999).astype('int')\n",
    "games['critic_score']=games['critic_score'].fillna(9999)\n",
    "games['user_score']=games['user_score'].fillna(9999)"
   ]
  },
  {
   "cell_type": "markdown",
   "metadata": {},
   "source": [
    "Обратим внимание на аббревиатуру 'tbd' в столбцах с рейтингом."
   ]
  },
  {
   "cell_type": "code",
   "execution_count": null,
   "metadata": {},
   "outputs": [],
   "source": [
    "games[games['user_score'] == 'tbd']['user_score'].count()"
   ]
  },
  {
   "cell_type": "markdown",
   "metadata": {},
   "source": [
    "TBD — сокращение от To Be Determined. Значение не определено, значит, это те же пропуски, поставим вместо них большое число."
   ]
  },
  {
   "cell_type": "code",
   "execution_count": null,
   "metadata": {},
   "outputs": [],
   "source": [
    "games.loc[games['user_score'] == 'tbd','user_score'] = 9999\n",
    "games['user_score'] = games['user_score'].astype('float')"
   ]
  },
  {
   "cell_type": "markdown",
   "metadata": {},
   "source": [
    "В текстовых столбцах заполним NaN соответствующими категориями."
   ]
  },
  {
   "cell_type": "code",
   "execution_count": null,
   "metadata": {},
   "outputs": [],
   "source": [
    "games['rating'] = games['rating'].fillna('no rating')\n",
    "games['genre'] = games['genre'].fillna('no genre')\n",
    "games['name'] = games['name'].fillna('no name')"
   ]
  },
  {
   "cell_type": "markdown",
   "metadata": {},
   "source": [
    "Перед проверкой на дубликаты переведем все значения текстовых полей в нижний регистр."
   ]
  },
  {
   "cell_type": "code",
   "execution_count": null,
   "metadata": {},
   "outputs": [],
   "source": [
    "games['name']=games['name'].str.lower()\n",
    "games['platform']=games['platform'].str.lower()\n",
    "games['genre']=games['genre'].str.lower()\n",
    "#games['rating']=games['rating'].str.lower()\n",
    "#rating['rating_type]=rating['rating_type'].str.lower()\n",
    "rating['decryption']=rating['decryption'].str.lower()"
   ]
  },
  {
   "cell_type": "code",
   "execution_count": null,
   "metadata": {},
   "outputs": [],
   "source": [
    "games.duplicated().sum()"
   ]
  },
  {
   "cell_type": "code",
   "execution_count": null,
   "metadata": {},
   "outputs": [],
   "source": [
    "rating.duplicated().sum()"
   ]
  },
  {
   "cell_type": "code",
   "execution_count": null,
   "metadata": {},
   "outputs": [],
   "source": [
    "games.info()"
   ]
  },
  {
   "cell_type": "markdown",
   "metadata": {},
   "source": [
    "Посчитаем количество продаж во всех регионах и запишем в отдельный столбец."
   ]
  },
  {
   "cell_type": "code",
   "execution_count": null,
   "metadata": {},
   "outputs": [],
   "source": [
    "games['total_sales'] = games['na_sales'] + games['eu_sales'] + games['jp_sales'] + games['other_sales']\n",
    "games.head()"
   ]
  },
  {
   "cell_type": "markdown",
   "metadata": {},
   "source": [
    "Выполнили предобработку. "
   ]
  },
  {
   "cell_type": "markdown",
   "metadata": {},
   "source": [
    "**Шаг 3. Проведем исследовательский анализ данных**"
   ]
  },
  {
   "cell_type": "markdown",
   "metadata": {},
   "source": [
    "- Посмотрим, сколько игр выпускалось в разные годы. Важны ли данные за все периоды?\n",
    "- Посмотрим, как менялись продажи по платформам. Выберем платформы с наибольшими суммарными продажами и постройте распределение по годам. За какой характерный срок появляются новые и исчезают старые платформы?\n",
    "- Возьмем данные за соответствующий актуальный период. Актуальный период определим самостоятельно в результате исследования предыдущих вопросов. Основной фактор — эти данные помогут построить прогноз на 2017 год.\n",
    "- Не учитываем в работе данные за предыдущие годы.\n",
    "- Какие платформы лидируют по продажам, растут или падают? Выберем несколько потенциально прибыльных платформ.\n",
    "- Построим график «ящик с усами» по глобальным продажам игр в разбивке по платформам. Опишем результат.\n",
    "- Посмотрим, как влияют на продажи внутри одной популярной платформы отзывы пользователей и критиков. Построим диаграмму рассеяния и посчитаем корреляцию между отзывами и продажами. Сформулируем выводы.\n",
    "- Соотнесем выводы с продажами игр на других платформах.\n",
    "- Посмотрим на общее распределение игр по жанрам. Что можно сказать о самых прибыльных жанрах? Выделяются ли жанры с высокими и низкими продажами?"
   ]
  },
  {
   "cell_type": "markdown",
   "metadata": {},
   "source": [
    "Посмотрим, сколько игр выпускалось в разные годы."
   ]
  },
  {
   "cell_type": "code",
   "execution_count": null,
   "metadata": {},
   "outputs": [],
   "source": [
    "def plot_bar(df, column, title):\n",
    "    df_not_na = df[df[column] != 9999]\n",
    "    df_plot = df_not_na.groupby(column)[column].count()\n",
    "    ax = df_plot.plot(kind='bar', figsize=(12, 5)).legend()\n",
    "    plt.title(title)\n",
    "    plt.show()\n",
    "\n",
    "plot_bar(games, 'year_of_release', 'Распределение релиза игр по годам')\n"
   ]
  },
  {
   "cell_type": "markdown",
   "metadata": {},
   "source": [
    "Мы видим, что первые официальные релизы игр появились в 80-х годах, их количество до 90-х годов не превышало определенных значений. Постепенный рост выпуска игр произошел в 90-х, что можно объяснить ростом возможностей операционных систем, массовым распространением ПК среди пользователей. Пик выпуска игр приходится на 2008-2009 годы, далее следует спад, который можно объяснить распределением сферы интересов потребителей игровой индустрии среди прочих гаджетов."
   ]
  },
  {
   "cell_type": "markdown",
   "metadata": {},
   "source": [
    "Посмотрим, как менялись продажи по платформам. Выберем платформы с наибольшими суммарными продажами и постройте распределение по годам. За какой характерный срок появляются новые и исчезают старые платформы?"
   ]
  },
  {
   "cell_type": "code",
   "execution_count": null,
   "metadata": {},
   "outputs": [],
   "source": [
    "def plot_bar(df, column_gr, column_sum, title):\n",
    "    df_plot = df.groupby(column_gr)[column_sum].sum().sort_values(ascending = False)\n",
    "    ax = df_plot.plot(kind='bar', figsize=(12, 5)).legend()\n",
    "    plt.title(title)\n",
    "    plt.show()\n",
    "\n",
    "plot_bar(games, 'platform', 'total_sales', 'Распределение продаж игр по платформам')"
   ]
  },
  {
   "cell_type": "markdown",
   "metadata": {},
   "source": [
    "Лидером является платформа PS2. Далее идут Xbox360, PS3 и Wii, PS замыкает шестерку явных лидеров."
   ]
  },
  {
   "cell_type": "markdown",
   "metadata": {},
   "source": [
    "Выберем топ-6 платформ с наибольшими суммарными продажами и построим распределение по годам."
   ]
  },
  {
   "cell_type": "code",
   "execution_count": null,
   "metadata": {
    "scrolled": true
   },
   "outputs": [],
   "source": [
    "games_gr=games.pivot_table(index='platform', values = 'total_sales',aggfunc = sum).query('total_sales > 700').sort_values(by = 'total_sales', ascending = False)\n",
    "print(games_gr)\n",
    "#head()"
   ]
  },
  {
   "cell_type": "code",
   "execution_count": null,
   "metadata": {},
   "outputs": [],
   "source": [
    "top6 = ['ps2', 'x360', 'ps3', 'wii', 'ds', 'ps']"
   ]
  },
  {
   "cell_type": "code",
   "execution_count": null,
   "metadata": {},
   "outputs": [],
   "source": [
    "ax = plt.gca()\n",
    "legend=[]\n",
    "for platform in top6:\n",
    "    df_plot = games.query('platform == @platform')\n",
    "    df_plot.groupby('year_of_release')['total_sales'].sum().plot(x='year_of_release', y='total_sales', xlim=(1980, 2016), ylim=(0, 300), style='.-',grid=True, kind='line', linewidth=2, ax=ax, figsize=(10,5)).legend(legend)\n",
    "    legend.append(platform)\n",
    "plt.show()\n",
    "\n"
   ]
  },
  {
   "cell_type": "markdown",
   "metadata": {},
   "source": [
    "Игровые платформы имеют жизненный цикл порядка десяти лет. Большинство из них имеют по два пика популярности за всю историю существования, но время идет, появлятся новые платформы, которые вытесняют технически устаревшие консоли."
   ]
  },
  {
   "cell_type": "markdown",
   "metadata": {},
   "source": [
    "Возьмем данные за соответствующий актуальный период. Актуальный период определим самостоятельно в результате исследования предыдущих вопросов. Основной фактор — эти данные помогут построить прогноз на 2017 год."
   ]
  },
  {
   "cell_type": "markdown",
   "metadata": {},
   "source": [
    "Актуальным обозначим период в 10 лет - с 2006 года по 2016, большинство игр из нашего топ-6 в это время активно продавались. Построим графики для этого периода."
   ]
  },
  {
   "cell_type": "code",
   "execution_count": null,
   "metadata": {},
   "outputs": [],
   "source": [
    "ax = plt.gca()\n",
    "legend=[]\n",
    "platform_list=games.query('year_of_release >= 2006')['platform'].unique().tolist()\n",
    "for platform in platform_list:\n",
    "    df_plot = games.query('platform == @platform')\n",
    "    df_plot.groupby('year_of_release')['total_sales'].sum().plot(x='year_of_release', y='total_sales', xlim=(2006, 2016), ylim=(0, 300), style='.-',grid=True, kind='line', linewidth=2, ax=ax, figsize=(10,5)).legend(legend, loc='upper left')\n",
    "    legend.append(platform)\n",
    "plt.show()"
   ]
  },
  {
   "cell_type": "markdown",
   "metadata": {},
   "source": [
    "На конец исследуемого периода мы можем выделить трех лидеров - PS4, Xone и 3DS, на них и следует сделать ставки в 2017 году. Также следует отметить, что продажи по всем играм на конец 2016 снижаются."
   ]
  },
  {
   "cell_type": "markdown",
   "metadata": {},
   "source": [
    "Построим график «ящик с усами» по глобальным продажам игр и в разбивке по платформам. Опишем результат."
   ]
  },
  {
   "cell_type": "code",
   "execution_count": null,
   "metadata": {
    "scrolled": true
   },
   "outputs": [],
   "source": [
    "games.describe()"
   ]
  },
  {
   "cell_type": "code",
   "execution_count": null,
   "metadata": {},
   "outputs": [],
   "source": [
    "plot = games.boxplot('total_sales', figsize=(8, 8)).set_ylim(0, 2)"
   ]
  },
  {
   "cell_type": "markdown",
   "metadata": {},
   "source": [
    "Основная совокупность суммарной выручки рынка игр в верхней границе диапазона укладывается в границах 1,1 млн долларов. Медианное значение - 0,17 млн долларов."
   ]
  },
  {
   "cell_type": "code",
   "execution_count": null,
   "metadata": {},
   "outputs": [],
   "source": [
    "# df_plot = games.query(\"platform == @top6[@rows+@cols]\")\n",
    "\n",
    "platform_list=['ps2', 'x360', 'ps3', 'wii', 'ds', 'ps']\n",
    "df_plot = games.query('platform in @platform_list')\n",
    "ax = df_plot.boxplot(column='total_sales', by='platform', fontsize=45, figsize=(50,15), notch=True)\n",
    "ax.set_ylim(0, 2)\n",
    "ax.set_xlabel('')\n",
    "ax.set_title('')\n",
    "plt.suptitle(\"Boxplot продаж по топ-6\", fontsize=45)\n",
    "plt.show()"
   ]
  },
  {
   "cell_type": "markdown",
   "metadata": {},
   "source": [
    "Медиана значений суммарных продаж игр для платформ из топ-6 принимает значения от 0,1 млн  до 0,25 млн долларов.\n",
    "Верхняя граница основной совокупности значений у платформ PS3 и X360 заметно выше остальных - на уровне 1,7 млн долларов.\n",
    "У остальных - от 0,6 до 1,5 миллионов долларов."
   ]
  },
  {
   "cell_type": "markdown",
   "metadata": {},
   "source": [
    "Посмотрим, как влияют на продажи внутри одной популярной платформы отзывы пользователей и критиков. Построим диаграмму рассеяния и посчитаем корреляцию между отзывами и продажами. В качестве популярной платформы возьмем X360."
   ]
  },
  {
   "cell_type": "code",
   "execution_count": null,
   "metadata": {},
   "outputs": [],
   "source": [
    "games_x360 = games[(games['platform'] == 'x360') & (games['critic_score'] != 9999)].copy()\n",
    "games_x360.plot(kind='scatter', x='critic_score', y='total_sales',  figsize=(10,5))"
   ]
  },
  {
   "cell_type": "code",
   "execution_count": null,
   "metadata": {},
   "outputs": [],
   "source": [
    "corr = games_x360[['total_sales', 'critic_score']].corr()\n",
    "corr.style.format(\"{:.2%}\")"
   ]
  },
  {
   "cell_type": "markdown",
   "metadata": {},
   "source": [
    "С ростом рейтинга критиков растет суммарный уровень выручки от продаж игр, связь не такая сильная, но она есть, оба фактора подтверждают качество продукта."
   ]
  },
  {
   "cell_type": "code",
   "execution_count": null,
   "metadata": {},
   "outputs": [],
   "source": [
    "games_x360 = games[(games['platform'] == 'x360') & (games['user_score'] != 9999)].copy()\n",
    "games_x360.plot(kind='scatter', x='user_score', y='total_sales',  figsize=(10,5))"
   ]
  },
  {
   "cell_type": "code",
   "execution_count": null,
   "metadata": {},
   "outputs": [],
   "source": [
    "corr = games_x360[['total_sales', 'user_score']].corr()\n",
    "corr.style.format(\"{:.2%}\")"
   ]
  },
  {
   "cell_type": "markdown",
   "metadata": {},
   "source": [
    "Здесь картина аналогичная, с ростом продаж рейтинг отзывов пользователей растет, но связь еще слабее, чем в предыдущем случае, возможно, пользователи, зачастую, чувствуют себя свободнее критиков в плане высказывания собственного мнения."
   ]
  },
  {
   "cell_type": "markdown",
   "metadata": {},
   "source": [
    "Соотнесем выводы с продажами игр на других платформах."
   ]
  },
  {
   "cell_type": "code",
   "execution_count": null,
   "metadata": {},
   "outputs": [],
   "source": [
    "games_x360 = games[(games['platform'] == 'x360') & (games['critic_score'] != 9999) & (games['user_score'] != 9999)].copy()"
   ]
  },
  {
   "cell_type": "code",
   "execution_count": null,
   "metadata": {},
   "outputs": [],
   "source": [
    "games_ps3_filtered = games_x360[['total_sales' ,'critic_score', 'user_score']]"
   ]
  },
  {
   "cell_type": "code",
   "execution_count": null,
   "metadata": {},
   "outputs": [],
   "source": [
    "platform_list=['ps2', 'x360', 'ps3', 'wii', 'ds', 'ps']\n",
    "rows = 2\n",
    "cols = 3\n",
    "\n",
    "fig, axes = plt.subplots(rows, cols, figsize=(15,10))\n",
    "count=0        \n",
    "for r in range(rows):\n",
    "    for c in range(cols):\n",
    "        platform = platform_list[count]\n",
    "        df_not_na = games[(games['platform'] == platform) & (games['user_score'] != 9999) & (games['critic_score'] != 9999)].copy()\n",
    "        df_final = df_not_na[['total_sales' ,'critic_score', 'user_score']]\n",
    "        ax = sns.heatmap(df_final.corr()[['total_sales']].sort_values(by='total_sales', ascending=False), cmap=\"Blues\", \n",
    "            annot=True, annot_kws={'size':10}, ax=axes[r,c])\n",
    "        ax.set_title(platform, fontsize=20)\n",
    "        count += 1\n",
    "        "
   ]
  },
  {
   "cell_type": "markdown",
   "metadata": {},
   "source": [
    "Если рассматривать корреляцию значений суммарных продаж на примере топ-6 платформ, можно заметить, что в большинстве они совпадают с результатами исследования данных по платформе X360. На фоне остальных выделяются платформы wii и ds, их продажи еще менее зависят от мнения критиков."
   ]
  },
  {
   "cell_type": "markdown",
   "metadata": {},
   "source": [
    "Посмотрим на общее распределение игр по жанрам."
   ]
  },
  {
   "cell_type": "code",
   "execution_count": null,
   "metadata": {},
   "outputs": [],
   "source": [
    "ax = plt.gca()\n",
    "plot = games.groupby('genre').agg({'total_sales': 'sum'}).sort_values(by='total_sales', ascending=False)\n",
    "plot = plot['total_sales']\n",
    "plot.plot(kind='bar', figsize=(15,5), ax=ax)\n",
    "ax.legend([\"Общая сумма продаж\"])\n",
    "plt.show()"
   ]
  },
  {
   "cell_type": "markdown",
   "metadata": {},
   "source": [
    "Action бесспорный лидер среди жанров."
   ]
  },
  {
   "cell_type": "markdown",
   "metadata": {},
   "source": [
    "**Шаг 4. Составим портрет пользователя каждого региона**"
   ]
  },
  {
   "cell_type": "markdown",
   "metadata": {},
   "source": [
    "Самые популярные платформы (топ-5)."
   ]
  },
  {
   "cell_type": "code",
   "execution_count": null,
   "metadata": {},
   "outputs": [],
   "source": [
    "fig, axes = plt.subplots(1, 3, figsize=(25,5))\n",
    "\n",
    "plot = games.groupby('platform').agg({'na_sales':'sum'}).sort_values(by='na_sales', ascending=False).head(5).plot(kind='bar', ax=axes[0], fontsize=15).legend([\"Общая сумма продаж, NA\"])\n",
    "plot = games.groupby('platform').agg({'eu_sales':'sum'}).sort_values(by='eu_sales', ascending=False).head(5).plot(kind='bar', ax=axes[1], fontsize=15).legend([\"Общая сумма продаж, EU\"])\n",
    "plot = games.groupby('platform').agg({'jp_sales':'sum'}).sort_values(by='jp_sales', ascending=False).head(5).plot(kind='bar', ax=axes[2], fontsize=15).legend([\"Общая сумма продаж, JP\"])"
   ]
  },
  {
   "cell_type": "markdown",
   "metadata": {},
   "source": [
    "Самые популярные жанры (топ-5)."
   ]
  },
  {
   "cell_type": "code",
   "execution_count": null,
   "metadata": {},
   "outputs": [],
   "source": [
    "fig, axes = plt.subplots(1, 3, figsize=(25,5))\n",
    "\n",
    "plot = games.groupby('genre').agg({'na_sales':'sum'}).sort_values(by='na_sales', ascending=False).head(5).plot(kind='bar', ax=axes[0], fontsize=15).legend([\"Общая сумма продаж, NA\"])\n",
    "plot = games.groupby('genre').agg({'eu_sales':'sum'}).sort_values(by='eu_sales', ascending=False).head(5).plot(kind='bar', ax=axes[1], fontsize=15).legend([\"Общая сумма продаж, EU\"])\n",
    "plot = games.groupby('genre').agg({'jp_sales':'sum'}).sort_values(by='jp_sales', ascending=False).head(5).plot(kind='bar', ax=axes[2], fontsize=15).legend([\"Общая сумма продаж, JP\"])"
   ]
  },
  {
   "cell_type": "markdown",
   "metadata": {},
   "source": [
    "В Японии выбирают ролевые игры, лидирующие в Европе и Северной Америке жанры action и sports отодвинуты на шаг назад. Жанр shooter замыкает тройки лидеров в Европе и Северной Америке."
   ]
  },
  {
   "cell_type": "markdown",
   "metadata": {},
   "source": [
    "Влияет ли рейтинг ESRB на продажи в отдельном регионе?"
   ]
  },
  {
   "cell_type": "code",
   "execution_count": null,
   "metadata": {},
   "outputs": [],
   "source": [
    "games_copy = games.copy()\n",
    "games_copy.rename(columns = {'rating':'rating_type'}, inplace = True)\n",
    "games_copy.head()\n"
   ]
  },
  {
   "cell_type": "code",
   "execution_count": null,
   "metadata": {},
   "outputs": [],
   "source": [
    "#left_on = 'tariff' right_on = 'tariff_name'\n",
    "games_copy = games_copy.merge(rating, on='rating_type', how='right')\n",
    "games_copy.head()"
   ]
  },
  {
   "cell_type": "code",
   "execution_count": null,
   "metadata": {},
   "outputs": [],
   "source": [
    "fig, axes = plt.subplots(1, 3, figsize=(25,6))\n",
    "games_copy.groupby(by='decryption').agg({'jp_sales':'sum'}).sort_values(by='jp_sales', ascending=False).head(5).plot(kind='bar', ax=axes[0], rot=30, fontsize=15)\n",
    "games_copy.groupby(by='decryption').agg({'eu_sales':'sum'}).sort_values(by='eu_sales', ascending=False).head(5).plot(kind='bar', ax=axes[1], rot=30, fontsize=15)\n",
    "games_copy.groupby(by='decryption').agg({'na_sales':'sum'}).sort_values(by='na_sales', ascending=False).head(5).plot(kind='bar', ax=axes[2], rot=30, fontsize=15)"
   ]
  },
  {
   "cell_type": "markdown",
   "metadata": {},
   "source": [
    "Категория \"для всех\" лидирует во всех исследуемых регионах. В Японии аудитория подростков 13-19 представлена гораздо шире, чем в других регионах и идет на втором месте после \"для всех\". В Европе категория \"от 17 лет\" занимает второе место, но отрыв от аудитории \"подростками 13-19 лет\" минимален."
   ]
  },
  {
   "cell_type": "markdown",
   "metadata": {},
   "source": [
    "**Шаг 5. Проверьте гипотезы**"
   ]
  },
  {
   "cell_type": "markdown",
   "metadata": {},
   "source": [
    "- Средние пользовательские рейтинги платформ Xbox One и PC одинаковые;\n",
    "- Средние пользовательские рейтинги жанров Action (англ. «действие», экшен-игры) и Sports (англ. «спортивные соревнования») разные."
   ]
  },
  {
   "cell_type": "markdown",
   "metadata": {},
   "source": [
    "H0: средний пользовательский рейтинг платформ Xbox One и PC одинаковый  \n",
    "H1: средний пользовательский рейтинг платформ Xbox One и PC различается"
   ]
  },
  {
   "cell_type": "markdown",
   "metadata": {},
   "source": [
    "Для проверки обеих гипотез будем использовать t-критерий Стьюдента, так как в обоих случаях выборки независимы между собой."
   ]
  },
  {
   "cell_type": "code",
   "execution_count": null,
   "metadata": {},
   "outputs": [],
   "source": [
    "alpha = 0.05"
   ]
  },
  {
   "cell_type": "code",
   "execution_count": null,
   "metadata": {},
   "outputs": [],
   "source": [
    "xbox = games[(games['platform'] == 'xone') & (games['user_score'] > 0) & (games['user_score'] != 9999)]['user_score']\n",
    "pc = games[(games['platform'] == 'pc') & (games['user_score'] > 0) & (games['user_score'] != 9999)]['user_score']"
   ]
  },
  {
   "cell_type": "code",
   "execution_count": null,
   "metadata": {},
   "outputs": [],
   "source": [
    "results = st.ttest_ind(xbox, pc)"
   ]
  },
  {
   "cell_type": "code",
   "execution_count": null,
   "metadata": {},
   "outputs": [],
   "source": [
    "print('p-значение:', results.pvalue)\n",
    "\n",
    "if results.pvalue < alpha:\n",
    "    print(\"Отвергаем нулевую гипотезу\")\n",
    "else:\n",
    "    print(\"Не получилось отвергнуть нулевую гипотезу\")"
   ]
  },
  {
   "cell_type": "markdown",
   "metadata": {},
   "source": [
    "Таким образом, пользовательский рейтинг платформ Xbox One и PC различается."
   ]
  },
  {
   "cell_type": "markdown",
   "metadata": {},
   "source": [
    "H0: средний пользовательский рейтинг жанров Action и Sports одинаковый  \n",
    "H1: средний пользовательский рейтинг жанров Action и Sports различается"
   ]
  },
  {
   "cell_type": "code",
   "execution_count": null,
   "metadata": {},
   "outputs": [],
   "source": [
    "action = games[(games['genre'] == 'action') & (games['user_score'] > 0) & (games['user_score'] != 9999)]['user_score']\n",
    "sports = games[(games['genre'] == 'sports') & (games['user_score'] > 0) & (games['user_score'] != 9999)]['user_score']"
   ]
  },
  {
   "cell_type": "code",
   "execution_count": null,
   "metadata": {},
   "outputs": [],
   "source": [
    "results = st.ttest_ind(action, sports)"
   ]
  },
  {
   "cell_type": "code",
   "execution_count": null,
   "metadata": {},
   "outputs": [],
   "source": [
    "print('p-значение:', results.pvalue)\n",
    "\n",
    "if (results.pvalue < alpha):\n",
    "    print(\"Отвергаем нулевую гипотезу\")\n",
    "else:\n",
    "    print(\"Не получилось отвергнуть нулевую гипотезу\")"
   ]
  },
  {
   "cell_type": "markdown",
   "metadata": {},
   "source": [
    "Остается верным утверждение, что средние пользовательские рейтинги жанров Action и Sports одинаковые."
   ]
  },
  {
   "cell_type": "markdown",
   "metadata": {},
   "source": [
    "В результате проведенного анализа можно сделать выводы о том, что средний срок жизни консоли составляет 10 лет, это следует учитывать при закладке бюджета разработки игр. На конец исследуемого периода мы можем выделить трех консольных лидеров - PS4, Xone и 3DS, на них и следует сделать ставки в 2017 году, однако консоль 3DS подходит к десятилетнему рубежу существования и ее продажи имеют тенденцию к снижению дольше остальных. Также важно отметить, что рынок игр в целом переживает спад, интересы аудитории сместились в сторону более актуальных гаджетов и площадок. Выходя на рынок в том или ином регионе следует учитывать популярнось жанра, платформы в целом, а также активность возрастных категорий аудитории, так как каждый регион имеет свои особенности."
   ]
  },
  {
   "cell_type": "code",
   "execution_count": null,
   "metadata": {},
   "outputs": [],
   "source": [
    "s1 = games[(games['genre'] == 'action') & (games['user_score'] > 0) & (games['user_score'] != 9999)]['user_score']\n",
    "s2 = games[(games['genre'] == 'sports') & (games['user_score'] > 0) & (games['user_score'] != 9999)]['user_score']"
   ]
  },
  {
   "cell_type": "code",
   "execution_count": null,
   "metadata": {},
   "outputs": [],
   "source": [
    "def checkHypothesis(s1, s2, alpha=.05):\n",
    "    def makeHist(x):\n",
    "        avg = np.round(x.mean(), 2)\n",
    "        plt.hist(x)\n",
    "        plt.title(x.name + ' ' + str(avg))\n",
    "        plt.show()\n",
    "    makeHist(s1)\n",
    "    makeHist(s2)\n",
    "    #results = st.ttest_ind(s1, s2)\n",
    "    s1_std = np.std(s1)\n",
    "    s2_std = np.std(s2)\n",
    "    std_diff = abs(s1_std/s2_std - 1)\n",
    "    eq_var = std_diff <= .05\n",
    "    results = st.ttest_ind(s1, s2, equal_var=eq_var)\n",
    "    print('p-значение: ', results.pvalue)\n",
    "    if results.pvalue < alpha:\n",
    "        print('Отвергаем нулевую гипотезу, так как различия статистически значимы')\n",
    "    else:\n",
    "        print('Нет оснований отвергнуть нулевую гипотезу')\n",
    "    \n",
    "    if eq_var:\n",
    "        print('дисперсия выборок < 5 %::',eq_var)\n",
    "    else:\n",
    "        print('дисперсия выборок > 5 %:', std_diff)"
   ]
  },
  {
   "cell_type": "code",
   "execution_count": null,
   "metadata": {},
   "outputs": [],
   "source": [
    "s1.name = 'action'\n",
    "s2.name = 'sports'"
   ]
  },
  {
   "cell_type": "code",
   "execution_count": null,
   "metadata": {},
   "outputs": [],
   "source": [
    "checkHypothesis(s1, s2)"
   ]
  },
  {
   "cell_type": "code",
   "execution_count": null,
   "metadata": {},
   "outputs": [],
   "source": []
  }
 ],
 "metadata": {
  "kernelspec": {
   "display_name": "Python 3",
   "language": "python",
   "name": "python3"
  },
  "language_info": {
   "codemirror_mode": {
    "name": "ipython",
    "version": 3
   },
   "file_extension": ".py",
   "mimetype": "text/x-python",
   "name": "python",
   "nbconvert_exporter": "python",
   "pygments_lexer": "ipython3",
   "version": "3.8.3"
  },
  "toc": {
   "base_numbering": 1,
   "nav_menu": {},
   "number_sections": true,
   "sideBar": true,
   "skip_h1_title": true,
   "title_cell": "Table of Contents",
   "title_sidebar": "Contents",
   "toc_cell": false,
   "toc_position": {},
   "toc_section_display": true,
   "toc_window_display": false
  }
 },
 "nbformat": 4,
 "nbformat_minor": 2
}
