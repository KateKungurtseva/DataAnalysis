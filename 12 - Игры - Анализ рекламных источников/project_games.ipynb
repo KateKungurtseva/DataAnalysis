{
 "cells": [
  {
   "cell_type": "markdown",
   "metadata": {},
   "source": [
    "## Игры — Анализ рекламных источников"
   ]
  },
  {
   "cell_type": "markdown",
   "metadata": {},
   "source": [
    "### Презентация \n",
    "[Презентация](https://yadi.sk/d/bp2tZlf0ufQZRQ?w=1)"
   ]
  },
  {
   "cell_type": "markdown",
   "metadata": {},
   "source": [
    "### Дашборд  \n",
    "\n",
    "Набор №2\n",
    "Постройте диаграмму, отображающую количество событий по дням\n",
    "Постройте гистограмму, отображающую количество пользователей, пришедших из разных источников\n",
    "Добавьте фильтр дашборда по типу события.  \n",
    "\n",
    "https://public.tableau.com/profile/kate2787#!/vizhome/Games_16083883581890/Dashboard1?publish=yes\n"
   ]
  },
  {
   "cell_type": "markdown",
   "metadata": {},
   "source": [
    "### Задача**:**\n",
    "\n",
    "Проанализируйте поведения игроков в зависимости от источника перехода.\n",
    "\n",
    "- Проведите исследовательский анализ данных;\n",
    "- Проанализируйте влияние источника перехода в игру на поведение пользователя;\n",
    "- Проверьте статистические гипотезы\n",
    "    1. *Проверьте гипотезу: время завершения уровня различается в зависимости способа прохождения:*\n",
    "        - *через реализацию проекта,*\n",
    "        - *через победу над первым игроком.*\n",
    "    2. *Сформулируйте собственную статистическую гипотезу. Дополните её нулевой и альтернативной гипотезами. Проверьте гипотезу с помощью статистического теста.*"
   ]
  },
  {
   "cell_type": "markdown",
   "metadata": {},
   "source": [
    "### **Описание датасетов:**\n",
    "\n",
    "Основной датасет содержит данные о событиях, совершенных в мобильной игре «Космические братья». В ней пользователи строят свою космическую программу и пытаются преуспеть в нелёгком деле колонизации галактики.\n",
    "\n",
    "Основная монетизация игры — только планируется. Но предполагается, что в приложении будет происходить показ рекламы на экране с выбором типа объекта для постройки.\n",
    "\n",
    "В датасете представлены данные по игре пользователей на первом уровне. Завершение первого уровня требует от игрока выполнения одного из двух условий:\n",
    "\n",
    "- Победа над первым врагом\n",
    "- Реализация проекта - разработка орбитальной сборки спутников\n",
    "\n",
    "В датасете содержатся данные первых пользователей приложения — когорты пользователей, которые начали пользоваться приложением в период с 4 по 10 мая включительно."
   ]
  },
  {
   "cell_type": "markdown",
   "metadata": {},
   "source": [
    "Датасет *game_actions.csv*:\n",
    "\n",
    "- `event_datetime` — время события;\n",
    "- `event` — одно из трёх событий:\n",
    "    1. `building` — объект построен,\n",
    "    2. `finished_stage_1` — первый уровень завершён,\n",
    "    3. `project` — проект завершён;\n",
    "- `building_type` — один из трёх типов здания:\n",
    "    1. `assembly_shop` — сборочный цех,\n",
    "    2. `spaceport` — космопорт,\n",
    "    3. `research_center` — исследовательский центр;\n",
    "- `user_id` — идентификатор пользователя;\n",
    "- `project_type` — тип реализованного проекта;  \n",
    "\n",
    "Датасет *ad_cost.csv*:\n",
    "\n",
    "- `day` - день, в который был совершен клик по объявлению\n",
    "- `source` - источник трафика\n",
    "- `cost` - стоимость кликов  \n",
    "\n",
    "Датасет user_source.csv содержит колонки:\n",
    "\n",
    "- `user_id` - идентификатор пользователя\n",
    "- `source` - источников, с которого пришёл пользователь, установивший приложение"
   ]
  },
  {
   "cell_type": "markdown",
   "metadata": {},
   "source": [
    "### Декомпозиция.\n",
    "Шаг 1. Загрузим данные и подготовим их к анализу  \n",
    "\n",
    "Шаг 2. Подготовим данные  \n",
    "\n",
    "Заменим названия столбцов на удобные, если необходимо.\n",
    "Проверим пропуски и типы данных, откорректируем, если нужно.\n",
    "Поищем дубликаты и посмотрим, что делать с ними.   \n",
    "\n",
    "Шаг 3. Проведем исследовательский анализ данных.  \n",
    "\n",
    "- Посчитаем метрики отдельно по каждому источнику.(DAU, WAU, MAU) \n",
    "- Посчитаем Retention Rate. \n",
    "- Найдем распределение, из каких источников приходят игроки, завершающие первый уровень.\n",
    "- Найдем распределение, какие типы построек чаще выбирают игроки, завершающие первый уровень реализацией проекта.(для - выбора места демонстрации рекламы).\n",
    "- Найдем первое событие, имеющее место у игроков, завершающих первый уровень.\n",
    "- Найдем среднюю стоимость привлечения игрока из каждого источника.  \n",
    "\n",
    "\n",
    "Шаг 4. Проверим статистические гипотезы.  \n",
    "\n",
    "- Проверим гипотезу: время завершения уровня различается в зависимости способа прохождения:\n",
    "через реализацию проекта,\n",
    "через победу над первым игроком.\n",
    "- Проверим гипотезу: - проходящие уровень боем строят меньше объектов, чем реализующие проект.  \n",
    "\n",
    "Шаг 5. Сделаем выводы и дадим рекомендации."
   ]
  },
  {
   "cell_type": "markdown",
   "metadata": {},
   "source": [
    "**Шаг 1. Загрузим данные и подготовим их к анализу.**"
   ]
  },
  {
   "cell_type": "code",
   "execution_count": 1,
   "metadata": {},
   "outputs": [],
   "source": [
    "import pandas as pd\n",
    "import scipy.stats as stats\n",
    "import datetime as dt\n",
    "import numpy as np\n",
    "import plotly.graph_objects as go\n",
    "import matplotlib.pyplot as plt\n",
    "from scipy import stats as st\n",
    "import seaborn as sns\n",
    "import warnings\n",
    "warnings.filterwarnings('ignore')"
   ]
  },
  {
   "cell_type": "code",
   "execution_count": 2,
   "metadata": {},
   "outputs": [],
   "source": [
    "df_costs = pd.read_csv('/datasets/ad_costs.csv')\n",
    "df_actions = pd.read_csv('/datasets/game_actions.csv')\n",
    "df_source = pd.read_csv('/datasets/user_source.csv')"
   ]
  },
  {
   "cell_type": "code",
   "execution_count": 3,
   "metadata": {},
   "outputs": [
    {
     "data": {
      "text/html": [
       "<div>\n",
       "<style scoped>\n",
       "    .dataframe tbody tr th:only-of-type {\n",
       "        vertical-align: middle;\n",
       "    }\n",
       "\n",
       "    .dataframe tbody tr th {\n",
       "        vertical-align: top;\n",
       "    }\n",
       "\n",
       "    .dataframe thead th {\n",
       "        text-align: right;\n",
       "    }\n",
       "</style>\n",
       "<table border=\"1\" class=\"dataframe\">\n",
       "  <thead>\n",
       "    <tr style=\"text-align: right;\">\n",
       "      <th></th>\n",
       "      <th>event_datetime</th>\n",
       "      <th>event</th>\n",
       "      <th>building_type</th>\n",
       "      <th>user_id</th>\n",
       "      <th>project_type</th>\n",
       "    </tr>\n",
       "  </thead>\n",
       "  <tbody>\n",
       "    <tr>\n",
       "      <td>0</td>\n",
       "      <td>2020-05-04 00:00:01</td>\n",
       "      <td>building</td>\n",
       "      <td>assembly_shop</td>\n",
       "      <td>55e92310-cb8e-4754-b622-597e124b03de</td>\n",
       "      <td>NaN</td>\n",
       "    </tr>\n",
       "    <tr>\n",
       "      <td>1</td>\n",
       "      <td>2020-05-04 00:00:03</td>\n",
       "      <td>building</td>\n",
       "      <td>assembly_shop</td>\n",
       "      <td>c07b1c10-f477-44dc-81dc-ec82254b1347</td>\n",
       "      <td>NaN</td>\n",
       "    </tr>\n",
       "    <tr>\n",
       "      <td>2</td>\n",
       "      <td>2020-05-04 00:00:16</td>\n",
       "      <td>building</td>\n",
       "      <td>assembly_shop</td>\n",
       "      <td>6edd42cc-e753-4ff6-a947-2107cd560710</td>\n",
       "      <td>NaN</td>\n",
       "    </tr>\n",
       "    <tr>\n",
       "      <td>3</td>\n",
       "      <td>2020-05-04 00:00:16</td>\n",
       "      <td>building</td>\n",
       "      <td>assembly_shop</td>\n",
       "      <td>92c69003-d60a-444a-827f-8cc51bf6bf4c</td>\n",
       "      <td>NaN</td>\n",
       "    </tr>\n",
       "    <tr>\n",
       "      <td>4</td>\n",
       "      <td>2020-05-04 00:00:35</td>\n",
       "      <td>building</td>\n",
       "      <td>assembly_shop</td>\n",
       "      <td>cdc6bb92-0ccb-4490-9866-ef142f09139d</td>\n",
       "      <td>NaN</td>\n",
       "    </tr>\n",
       "  </tbody>\n",
       "</table>\n",
       "</div>"
      ],
      "text/plain": [
       "        event_datetime     event  building_type  \\\n",
       "0  2020-05-04 00:00:01  building  assembly_shop   \n",
       "1  2020-05-04 00:00:03  building  assembly_shop   \n",
       "2  2020-05-04 00:00:16  building  assembly_shop   \n",
       "3  2020-05-04 00:00:16  building  assembly_shop   \n",
       "4  2020-05-04 00:00:35  building  assembly_shop   \n",
       "\n",
       "                                user_id project_type  \n",
       "0  55e92310-cb8e-4754-b622-597e124b03de          NaN  \n",
       "1  c07b1c10-f477-44dc-81dc-ec82254b1347          NaN  \n",
       "2  6edd42cc-e753-4ff6-a947-2107cd560710          NaN  \n",
       "3  92c69003-d60a-444a-827f-8cc51bf6bf4c          NaN  \n",
       "4  cdc6bb92-0ccb-4490-9866-ef142f09139d          NaN  "
      ]
     },
     "execution_count": 3,
     "metadata": {},
     "output_type": "execute_result"
    }
   ],
   "source": [
    "df_actions.head(5)"
   ]
  },
  {
   "cell_type": "code",
   "execution_count": 4,
   "metadata": {},
   "outputs": [
    {
     "data": {
      "text/html": [
       "<div>\n",
       "<style scoped>\n",
       "    .dataframe tbody tr th:only-of-type {\n",
       "        vertical-align: middle;\n",
       "    }\n",
       "\n",
       "    .dataframe tbody tr th {\n",
       "        vertical-align: top;\n",
       "    }\n",
       "\n",
       "    .dataframe thead th {\n",
       "        text-align: right;\n",
       "    }\n",
       "</style>\n",
       "<table border=\"1\" class=\"dataframe\">\n",
       "  <thead>\n",
       "    <tr style=\"text-align: right;\">\n",
       "      <th></th>\n",
       "      <th>source</th>\n",
       "      <th>day</th>\n",
       "      <th>cost</th>\n",
       "    </tr>\n",
       "  </thead>\n",
       "  <tbody>\n",
       "    <tr>\n",
       "      <td>0</td>\n",
       "      <td>facebook_ads</td>\n",
       "      <td>2020-05-03</td>\n",
       "      <td>935.882786</td>\n",
       "    </tr>\n",
       "    <tr>\n",
       "      <td>1</td>\n",
       "      <td>facebook_ads</td>\n",
       "      <td>2020-05-04</td>\n",
       "      <td>548.354480</td>\n",
       "    </tr>\n",
       "    <tr>\n",
       "      <td>2</td>\n",
       "      <td>facebook_ads</td>\n",
       "      <td>2020-05-05</td>\n",
       "      <td>260.185754</td>\n",
       "    </tr>\n",
       "    <tr>\n",
       "      <td>3</td>\n",
       "      <td>facebook_ads</td>\n",
       "      <td>2020-05-06</td>\n",
       "      <td>177.982200</td>\n",
       "    </tr>\n",
       "    <tr>\n",
       "      <td>4</td>\n",
       "      <td>facebook_ads</td>\n",
       "      <td>2020-05-07</td>\n",
       "      <td>111.766796</td>\n",
       "    </tr>\n",
       "  </tbody>\n",
       "</table>\n",
       "</div>"
      ],
      "text/plain": [
       "         source         day        cost\n",
       "0  facebook_ads  2020-05-03  935.882786\n",
       "1  facebook_ads  2020-05-04  548.354480\n",
       "2  facebook_ads  2020-05-05  260.185754\n",
       "3  facebook_ads  2020-05-06  177.982200\n",
       "4  facebook_ads  2020-05-07  111.766796"
      ]
     },
     "execution_count": 4,
     "metadata": {},
     "output_type": "execute_result"
    }
   ],
   "source": [
    "df_costs.head(5)"
   ]
  },
  {
   "cell_type": "code",
   "execution_count": 5,
   "metadata": {},
   "outputs": [
    {
     "data": {
      "text/html": [
       "<div>\n",
       "<style scoped>\n",
       "    .dataframe tbody tr th:only-of-type {\n",
       "        vertical-align: middle;\n",
       "    }\n",
       "\n",
       "    .dataframe tbody tr th {\n",
       "        vertical-align: top;\n",
       "    }\n",
       "\n",
       "    .dataframe thead th {\n",
       "        text-align: right;\n",
       "    }\n",
       "</style>\n",
       "<table border=\"1\" class=\"dataframe\">\n",
       "  <thead>\n",
       "    <tr style=\"text-align: right;\">\n",
       "      <th></th>\n",
       "      <th>user_id</th>\n",
       "      <th>source</th>\n",
       "    </tr>\n",
       "  </thead>\n",
       "  <tbody>\n",
       "    <tr>\n",
       "      <td>0</td>\n",
       "      <td>0001f83c-c6ac-4621-b7f0-8a28b283ac30</td>\n",
       "      <td>facebook_ads</td>\n",
       "    </tr>\n",
       "    <tr>\n",
       "      <td>1</td>\n",
       "      <td>00151b4f-ba38-44a8-a650-d7cf130a0105</td>\n",
       "      <td>yandex_direct</td>\n",
       "    </tr>\n",
       "    <tr>\n",
       "      <td>2</td>\n",
       "      <td>001aaea6-3d14-43f1-8ca8-7f48820f17aa</td>\n",
       "      <td>youtube_channel_reklama</td>\n",
       "    </tr>\n",
       "    <tr>\n",
       "      <td>3</td>\n",
       "      <td>001d39dc-366c-4021-9604-6a3b9ff01e25</td>\n",
       "      <td>instagram_new_adverts</td>\n",
       "    </tr>\n",
       "    <tr>\n",
       "      <td>4</td>\n",
       "      <td>002f508f-67b6-479f-814b-b05f00d4e995</td>\n",
       "      <td>facebook_ads</td>\n",
       "    </tr>\n",
       "  </tbody>\n",
       "</table>\n",
       "</div>"
      ],
      "text/plain": [
       "                                user_id                   source\n",
       "0  0001f83c-c6ac-4621-b7f0-8a28b283ac30             facebook_ads\n",
       "1  00151b4f-ba38-44a8-a650-d7cf130a0105            yandex_direct\n",
       "2  001aaea6-3d14-43f1-8ca8-7f48820f17aa  youtube_channel_reklama\n",
       "3  001d39dc-366c-4021-9604-6a3b9ff01e25    instagram_new_adverts\n",
       "4  002f508f-67b6-479f-814b-b05f00d4e995             facebook_ads"
      ]
     },
     "execution_count": 5,
     "metadata": {},
     "output_type": "execute_result"
    }
   ],
   "source": [
    "df_source.head(5)"
   ]
  },
  {
   "cell_type": "code",
   "execution_count": 6,
   "metadata": {},
   "outputs": [
    {
     "name": "stdout",
     "output_type": "stream",
     "text": [
      "<class 'pandas.core.frame.DataFrame'>\n",
      "RangeIndex: 28 entries, 0 to 27\n",
      "Data columns (total 3 columns):\n",
      "source    28 non-null object\n",
      "day       28 non-null object\n",
      "cost      28 non-null float64\n",
      "dtypes: float64(1), object(2)\n",
      "memory usage: 800.0+ bytes\n"
     ]
    }
   ],
   "source": [
    "df_costs.info()"
   ]
  },
  {
   "cell_type": "markdown",
   "metadata": {},
   "source": [
    "Столбец day: необходимо преобразовать тип данных."
   ]
  },
  {
   "cell_type": "code",
   "execution_count": 7,
   "metadata": {},
   "outputs": [],
   "source": [
    "df_costs['day'] = pd.to_datetime(df_costs['day'])"
   ]
  },
  {
   "cell_type": "code",
   "execution_count": 8,
   "metadata": {},
   "outputs": [
    {
     "name": "stdout",
     "output_type": "stream",
     "text": [
      "<class 'pandas.core.frame.DataFrame'>\n",
      "RangeIndex: 13576 entries, 0 to 13575\n",
      "Data columns (total 2 columns):\n",
      "user_id    13576 non-null object\n",
      "source     13576 non-null object\n",
      "dtypes: object(2)\n",
      "memory usage: 212.2+ KB\n"
     ]
    }
   ],
   "source": [
    "df_source.info()"
   ]
  },
  {
   "cell_type": "code",
   "execution_count": 9,
   "metadata": {},
   "outputs": [
    {
     "name": "stdout",
     "output_type": "stream",
     "text": [
      "<class 'pandas.core.frame.DataFrame'>\n",
      "RangeIndex: 135640 entries, 0 to 135639\n",
      "Data columns (total 5 columns):\n",
      "event_datetime    135640 non-null object\n",
      "event             135640 non-null object\n",
      "building_type     127957 non-null object\n",
      "user_id           135640 non-null object\n",
      "project_type      1866 non-null object\n",
      "dtypes: object(5)\n",
      "memory usage: 5.2+ MB\n"
     ]
    }
   ],
   "source": [
    "df_actions.info()"
   ]
  },
  {
   "cell_type": "markdown",
   "metadata": {},
   "source": [
    "Видим, что пропуски есть в столбцах building_type и project_type, тип столбца event_datetime надо преобразовать, пропуски пока оставим, как есть."
   ]
  },
  {
   "cell_type": "code",
   "execution_count": 10,
   "metadata": {},
   "outputs": [],
   "source": [
    "df_actions['event_datetime'] = df_actions['event_datetime'].astype('datetime64')\n",
    "df_actions['event_date'] = df_actions['event_datetime'].dt.date\n",
    "df_actions['event_month'] = df_actions['event_datetime'].dt.month\n",
    "df_actions['event_week'] = df_actions['event_datetime'].dt.week\n",
    "df_actions['event_year'] = df_actions['event_datetime'].dt.year\n",
    "#df_actions['event_month'] = df_actions['event_date'].astype('datetime64[M]')"
   ]
  },
  {
   "cell_type": "markdown",
   "metadata": {},
   "source": [
    "Проверим, все ли записи уникальные, если нет - удалим дубликаты."
   ]
  },
  {
   "cell_type": "code",
   "execution_count": 11,
   "metadata": {},
   "outputs": [],
   "source": [
    "df_actions.duplicated().sum()\n",
    "df_actions.drop_duplicates(keep=False, inplace=True)"
   ]
  },
  {
   "cell_type": "markdown",
   "metadata": {},
   "source": [
    "Данные подготовлены."
   ]
  },
  {
   "cell_type": "markdown",
   "metadata": {},
   "source": [
    "**Шаг 3. Проведем исследовательский анализ данных.**"
   ]
  },
  {
   "cell_type": "markdown",
   "metadata": {},
   "source": [
    "**Посчитаем метрики - общую и отдельно по каждому источнику.(DAU, WAU, MAU).**"
   ]
  },
  {
   "cell_type": "code",
   "execution_count": 12,
   "metadata": {},
   "outputs": [],
   "source": [
    "dau_total = df_actions.groupby('event_date').agg({'user_id':'nunique'}).mean().astype('int')\n",
    "mau_total = df_actions.groupby(['event_year', 'event_month']).agg({'user_id':'nunique'}).mean().astype('int')\n",
    "wau_total = df_actions.groupby(['event_year', 'event_week']).agg({'user_id':'nunique'}).mean().astype('int')"
   ]
  },
  {
   "cell_type": "code",
   "execution_count": 13,
   "metadata": {},
   "outputs": [
    {
     "name": "stdout",
     "output_type": "stream",
     "text": [
      "DAU = 2884, WAU = 6120, MAU = 6802\n"
     ]
    }
   ],
   "source": [
    "print('DAU = {}, WAU = {}, MAU = {}'.format(int(dau_total),int(wau_total),int(mau_total)))"
   ]
  },
  {
   "cell_type": "code",
   "execution_count": 14,
   "metadata": {},
   "outputs": [
    {
     "data": {
      "image/png": "[encoded data removed]",
      "text/plain": [
       "<Figure size 720x360 with 1 Axes>"
      ]
     },
     "metadata": {
      "needs_background": "light"
     },
     "output_type": "display_data"
    },
    {
     "data": {
      "image/png": "[encoded data removed]",
      "text/plain": [
       "<Figure size 720x360 with 1 Axes>"
      ]
     },
     "metadata": {
      "needs_background": "light"
     },
     "output_type": "display_data"
    },
    {
     "data": {
      "image/png": "[encoded data removed]",
      "text/plain": [
       "<Figure size 720x360 with 1 Axes>"
      ]
     },
     "metadata": {
      "needs_background": "light"
     },
     "output_type": "display_data"
    }
   ],
   "source": [
    "def vis_plot(column,title):\n",
    "    df_actions.groupby(column)['user_id'].nunique().plot(x=column, y='user_id', style='-',grid=True,kind='line', linewidth=2,figsize=(10,5),title=title)\n",
    "    plt.show()\n",
    "    \n",
    "vis_plot('event_date','DAU')\n",
    "vis_plot('event_week','WAU')\n",
    "vis_plot('event_month','MAU')"
   ]
  },
  {
   "cell_type": "markdown",
   "metadata": {},
   "source": [
    "Вывод. Обратив внимание на количество уникальных пользователей, которые зашли в приложение в течение суток - DAU, мы видим, что интерес пользователей возрастал с начала мая месяца, достиг пика к \"майским\" и далее пошел на спад, и в целом в течение месяца интерес снижался. Средние значения по количеству пользователей DAU = 2884, WAU = 6120, MAU = 6802. Рассмотрим внимательнее DAU, WAU, MAU в разрезе источников."
   ]
  },
  {
   "cell_type": "markdown",
   "metadata": {},
   "source": [
    "**Посмотрим метрики DAU, WAU, MAU в разрезе источников.**"
   ]
  },
  {
   "cell_type": "markdown",
   "metadata": {},
   "source": [
    "Объединим датафреймы событий и источников."
   ]
  },
  {
   "cell_type": "code",
   "execution_count": 15,
   "metadata": {},
   "outputs": [],
   "source": [
    "df_source_act = df_actions.merge(df_source, on='user_id', how='left')\n",
    "# df_source_act['event_date'] = df_source_act['event_datetime'].dt.date\n",
    "# df_source_act['event_month'] = df_source_act['event_datetime'].dt.month\n",
    "# df_source_act['event_week'] = df_source_act['event_datetime'].dt.week\n",
    "# df_source_act['event_year'] = df_source_act['event_datetime'].dt.year\n",
    "# df_source_act['event_month'] = df_source_act['event_date'].astype('datetime64[M]')"
   ]
  },
  {
   "cell_type": "code",
   "execution_count": 16,
   "metadata": {},
   "outputs": [
    {
     "data": {
      "image/png": "[encoded data removed]",
      "text/plain": [
       "<Figure size 720x360 with 1 Axes>"
      ]
     },
     "metadata": {
      "needs_background": "light"
     },
     "output_type": "display_data"
    }
   ],
   "source": [
    "source_list = ['yandex_direct', 'instagram_new_adverts', 'youtube_channel_reklama', 'facebook_ads']\n",
    "\n",
    "def vis_plot_source(column,title):\n",
    "    for i in range(len(source_list)):\n",
    "        df_source_act[df_source_act['source'] == source_list[i]].groupby(column)['user_id'].nunique().plot(x=column, y='user_id', style='-',grid=True,kind='line', figsize=(10,5),title=title, label=source_list[i]).legend(loc='upper right')\n",
    "\n",
    "vis_plot_source('event_date','DAU')"
   ]
  },
  {
   "cell_type": "code",
   "execution_count": 17,
   "metadata": {},
   "outputs": [
    {
     "data": {
      "image/png": "[encoded data removed]",
      "text/plain": [
       "<Figure size 720x360 with 1 Axes>"
      ]
     },
     "metadata": {
      "needs_background": "light"
     },
     "output_type": "display_data"
    }
   ],
   "source": [
    "vis_plot_source('event_week','WAU')"
   ]
  },
  {
   "cell_type": "code",
   "execution_count": 18,
   "metadata": {},
   "outputs": [
    {
     "data": {
      "image/png": "[encoded data removed]",
      "text/plain": [
       "<Figure size 720x360 with 1 Axes>"
      ]
     },
     "metadata": {
      "needs_background": "light"
     },
     "output_type": "display_data"
    }
   ],
   "source": [
    "vis_plot_source('event_month','MAU')"
   ]
  },
  {
   "cell_type": "markdown",
   "metadata": {},
   "source": [
    "Вывод. На графике DAU в разрезе по источникам заметно, что большинство пользователей приходит из источника 'yandex_direct', на втором месте 'instagram_new_adverts', на третьем соперничают 'facebook_ads' и 'youtube_channel_reklama'. Метрики DAU и WAU подтверждают это наблюдение. Независимо от успешности того или иного источника, пользователи уходят к концу исследуемого периода. Интересно было бы посмотреть коэффициент удержания клиентов Retention Rate на данном этапе исследования."
   ]
  },
  {
   "cell_type": "markdown",
   "metadata": {},
   "source": [
    "**Retention Rate.**"
   ]
  },
  {
   "cell_type": "markdown",
   "metadata": {},
   "source": [
    "Найдем момент первого события пользователя. Когортами будем считать пользователей, совершивших первое событие в тот или иной день."
   ]
  },
  {
   "cell_type": "code",
   "execution_count": 19,
   "metadata": {},
   "outputs": [],
   "source": [
    "df_actions['event_datetime'] = pd.to_datetime(df_actions['event_datetime'], format='%Y-%m-%d %H:%M:%S')\n",
    "df_actions['event_datetime'] = df_actions['event_datetime'].dt.strftime(\"%Y-%m-%d\")\n",
    "df_actions['event_datetime'] = pd.to_datetime(df_actions['event_datetime'], format='%Y-%m-%d %H:%M:%S')"
   ]
  },
  {
   "cell_type": "code",
   "execution_count": 20,
   "metadata": {},
   "outputs": [],
   "source": [
    "\n",
    "first_event_date = df_actions.groupby('user_id')['event_datetime'].min()\n",
    "\n",
    "first_event_date.name = 'first_event_date'\n",
    "gamer_activity = df_actions.join(first_event_date,on='user_id')"
   ]
  },
  {
   "cell_type": "markdown",
   "metadata": {},
   "source": [
    "Посмотрим, сколько у нас когорт по дням."
   ]
  },
  {
   "cell_type": "code",
   "execution_count": 21,
   "metadata": {},
   "outputs": [
    {
     "data": {
      "text/plain": [
       "first_event_date\n",
       "2020-05-04    64226\n",
       "2020-05-05    34755\n",
       "2020-05-06    17399\n",
       "2020-05-07     9429\n",
       "2020-05-08     5121\n",
       "2020-05-09     3025\n",
       "2020-05-10     1683\n",
       "Name: event, dtype: int64"
      ]
     },
     "execution_count": 21,
     "metadata": {},
     "output_type": "execute_result"
    }
   ],
   "source": [
    "gamer_activity.groupby(['first_event_date'])['event'].agg('count')"
   ]
  },
  {
   "cell_type": "markdown",
   "metadata": {},
   "source": [
    "Получилось 7 когорт. Сформируем дату первого события для каждой когорты."
   ]
  },
  {
   "cell_type": "code",
   "execution_count": 22,
   "metadata": {},
   "outputs": [],
   "source": [
    "gamer_activity['activity_day'] = pd.to_datetime(gamer_activity['event_datetime'], unit='d')\n",
    "gamer_activity['first_activity_day'] = pd.to_datetime(gamer_activity['first_event_date'],unit='d')"
   ]
  },
  {
   "cell_type": "markdown",
   "metadata": {},
   "source": [
    "Рассчитаем lifetime пользователя в рамках когорты и сгруппируем по когорте и lifetime."
   ]
  },
  {
   "cell_type": "code",
   "execution_count": 23,
   "metadata": {},
   "outputs": [],
   "source": [
    "gamer_activity['cohort_lifetime'] = gamer_activity['activity_day'] - gamer_activity['first_activity_day']\n",
    "gamer_activity['cohort_lifetime'] = gamer_activity['cohort_lifetime'] / np.timedelta64(1,'D')\n",
    "gamer_activity['cohort_lifetime'] = gamer_activity['cohort_lifetime'].astype(int)\n",
    "cohorts = gamer_activity.groupby(['first_activity_day','cohort_lifetime']).agg({'user_id':'nunique'}).reset_index()"
   ]
  },
  {
   "cell_type": "markdown",
   "metadata": {},
   "source": [
    "Найдём исходное количество пользователей в когорте."
   ]
  },
  {
   "cell_type": "code",
   "execution_count": 24,
   "metadata": {},
   "outputs": [],
   "source": [
    "initial_users_count = cohorts[cohorts['cohort_lifetime'] == 0][['first_activity_day','user_id']]\n",
    "initial_users_count = initial_users_count.rename(columns={'user_id':'cohort_users'})\n",
    "cohorts = cohorts.merge(initial_users_count,on='first_activity_day')"
   ]
  },
  {
   "cell_type": "markdown",
   "metadata": {},
   "source": [
    "Посчитаем Retention Rate."
   ]
  },
  {
   "cell_type": "code",
   "execution_count": 25,
   "metadata": {},
   "outputs": [
    {
     "data": {
      "image/png": "[encoded data removed]",
      "text/plain": [
       "<Figure size 1800x504 with 2 Axes>"
      ]
     },
     "metadata": {
      "needs_background": "light"
     },
     "output_type": "display_data"
    }
   ],
   "source": [
    "cohorts['retention'] = cohorts['user_id']/cohorts['cohort_users']\n",
    "retention_pivot = cohorts.pivot_table(index='first_activity_day',columns='cohort_lifetime',values='retention',aggfunc='sum')\n",
    "# retention_pivot.fillna('')\n",
    "plt.figure(figsize=(25, 7))\n",
    "plt.title('Cohorts: Gamer Retention')\n",
    "sns.heatmap(retention_pivot, annot=True, fmt='.0%',vmax=0.10,cmap=\"YlGnBu\");"
   ]
  },
  {
   "cell_type": "markdown",
   "metadata": {},
   "source": [
    "Вывод. Хотя мы имеем небольшой по времени объем данных, попробуем проанализировать Retention Rate. Retention Rate убывает по когортам с течением времени. Похоже, что тепловая карта отражает больший приток пользователей в \"майские каникулы\" и их меньшую заинтересованность, когда праздничные дни оказались позади. Когорта от 10 мая показывает наихудшие показатели. С каждой новой когортой поведение покупателей меняется не в лучшую сторону. Также с течением времени пользователей становится все меньше, нет стабильных промежутков. После 15 мая Retention Rate значительно падает по всем когортам."
   ]
  },
  {
   "cell_type": "markdown",
   "metadata": {},
   "source": [
    "**Найдем распределение, из каких источников чаще приходят игроки.**"
   ]
  },
  {
   "cell_type": "code",
   "execution_count": 26,
   "metadata": {},
   "outputs": [
    {
     "name": "stdout",
     "output_type": "stream",
     "text": [
      "<class 'pandas.core.frame.DataFrame'>\n",
      "RangeIndex: 28 entries, 0 to 27\n",
      "Data columns (total 3 columns):\n",
      "source    28 non-null object\n",
      "day       28 non-null datetime64[ns]\n",
      "cost      28 non-null float64\n",
      "dtypes: datetime64[ns](1), float64(1), object(1)\n",
      "memory usage: 800.0+ bytes\n"
     ]
    }
   ],
   "source": [
    "df_source_act['day'] = df_source_act['event_datetime']\n",
    "df_source_act['day']=df_source_act['day'].dt.date\n",
    "df_source_act['day'] = pd.to_datetime(df_source_act['day'])\n",
    "df_costs.info()"
   ]
  },
  {
   "cell_type": "code",
   "execution_count": 40,
   "metadata": {},
   "outputs": [
    {
     "data": {
      "text/html": [
       "<div>\n",
       "<style scoped>\n",
       "    .dataframe tbody tr th:only-of-type {\n",
       "        vertical-align: middle;\n",
       "    }\n",
       "\n",
       "    .dataframe tbody tr th {\n",
       "        vertical-align: top;\n",
       "    }\n",
       "\n",
       "    .dataframe thead th {\n",
       "        text-align: right;\n",
       "    }\n",
       "</style>\n",
       "<table border=\"1\" class=\"dataframe\">\n",
       "  <thead>\n",
       "    <tr style=\"text-align: right;\">\n",
       "      <th></th>\n",
       "      <th>source</th>\n",
       "      <th>count_all</th>\n",
       "      <th>count_stage_1</th>\n",
       "      <th>percent</th>\n",
       "    </tr>\n",
       "  </thead>\n",
       "  <tbody>\n",
       "    <tr>\n",
       "      <td>3</td>\n",
       "      <td>youtube_channel_reklama</td>\n",
       "      <td>26515</td>\n",
       "      <td>1159</td>\n",
       "      <td>4.37</td>\n",
       "    </tr>\n",
       "    <tr>\n",
       "      <td>1</td>\n",
       "      <td>instagram_new_adverts</td>\n",
       "      <td>33757</td>\n",
       "      <td>1466</td>\n",
       "      <td>4.34</td>\n",
       "    </tr>\n",
       "    <tr>\n",
       "      <td>0</td>\n",
       "      <td>yandex_direct</td>\n",
       "      <td>47694</td>\n",
       "      <td>2042</td>\n",
       "      <td>4.28</td>\n",
       "    </tr>\n",
       "    <tr>\n",
       "      <td>2</td>\n",
       "      <td>facebook_ads</td>\n",
       "      <td>27672</td>\n",
       "      <td>1150</td>\n",
       "      <td>4.16</td>\n",
       "    </tr>\n",
       "  </tbody>\n",
       "</table>\n",
       "</div>"
      ],
      "text/plain": [
       "                    source  count_all  count_stage_1  percent\n",
       "3  youtube_channel_reklama      26515           1159     4.37\n",
       "1    instagram_new_adverts      33757           1466     4.34\n",
       "0            yandex_direct      47694           2042     4.28\n",
       "2             facebook_ads      27672           1150     4.16"
      ]
     },
     "execution_count": 40,
     "metadata": {},
     "output_type": "execute_result"
    }
   ],
   "source": [
    "#Найдем распределение, из каких источников приходят игроки, завершающие первый уровень.\n",
    "source1 = df_source_act[df_source_act['event'] == 'finished_stage_1'].pivot_table(index='source', values='user_id', aggfunc='count').reset_index().sort_values('user_id', ascending=False)\n",
    "source = df_source_act.pivot_table(index='source', values='user_id', aggfunc='count').reset_index().sort_values('user_id', ascending=False)\n",
    "# source['source']=source.index\n",
    "# source.plot(x='source', y='user_id', kind='bar', title = 'Игроки первого уровня по источникам')\n",
    "# source1.plot(x='source', y='user_id', kind='bar', title = 'Игроки первого уровня по источникам')\n",
    "# plt.xticks(rotation = 20)\n",
    "source\n",
    "source_act = source.merge(source1, on='source')\n",
    "source_act.columns = ['source', 'count_all', 'count_stage_1']\n",
    "source_act['percent'] = source_act['count_stage_1'] *100/source_act['count_all']\n",
    "source_act['percent']=source_act['percent'].round(2)\n",
    "source_act.sort_values(by=['percent'], ascending=False)"
   ]
  },
  {
   "cell_type": "markdown",
   "metadata": {},
   "source": [
    "Вывод. Здесь мы наблюдаем, что наибольший процент игроков, прохождящих первый уровень, от приходящих из источника наиболее высок у 'youtube_channel_reklama', далее идут 'instagram_new_adverts' и 'yandex_direct'."
   ]
  },
  {
   "cell_type": "markdown",
   "metadata": {},
   "source": [
    "Исправила..."
   ]
  },
  {
   "cell_type": "markdown",
   "metadata": {},
   "source": [
    "**Найдем распределение, какие типы построек чаще выбирают игроки, завершающие первый уровень реализацией проекта.**"
   ]
  },
  {
   "cell_type": "code",
   "execution_count": 28,
   "metadata": {},
   "outputs": [
    {
     "data": {
      "text/html": [
       "<div>\n",
       "<style scoped>\n",
       "    .dataframe tbody tr th:only-of-type {\n",
       "        vertical-align: middle;\n",
       "    }\n",
       "\n",
       "    .dataframe tbody tr th {\n",
       "        vertical-align: top;\n",
       "    }\n",
       "\n",
       "    .dataframe thead th {\n",
       "        text-align: right;\n",
       "    }\n",
       "</style>\n",
       "<table border=\"1\" class=\"dataframe\">\n",
       "  <thead>\n",
       "    <tr style=\"text-align: right;\">\n",
       "      <th></th>\n",
       "      <th>building_type</th>\n",
       "      <th>user_id</th>\n",
       "    </tr>\n",
       "  </thead>\n",
       "  <tbody>\n",
       "    <tr>\n",
       "      <td>2</td>\n",
       "      <td>spaceport</td>\n",
       "      <td>10788</td>\n",
       "    </tr>\n",
       "    <tr>\n",
       "      <td>0</td>\n",
       "      <td>assembly_shop</td>\n",
       "      <td>9116</td>\n",
       "    </tr>\n",
       "    <tr>\n",
       "      <td>1</td>\n",
       "      <td>research_center</td>\n",
       "      <td>3697</td>\n",
       "    </tr>\n",
       "  </tbody>\n",
       "</table>\n",
       "</div>"
      ],
      "text/plain": [
       "     building_type  user_id\n",
       "2        spaceport    10788\n",
       "0    assembly_shop     9116\n",
       "1  research_center     3697"
      ]
     },
     "execution_count": 28,
     "metadata": {},
     "output_type": "execute_result"
    },
    {
     "data": {
      "image/png": "[encoded data removed]",
      "text/plain": [
       "<Figure size 432x288 with 1 Axes>"
      ]
     },
     "metadata": {
      "needs_background": "light"
     },
     "output_type": "display_data"
    }
   ],
   "source": [
    "#Найдем распределение, какие типы построек чаще выбирают игроки, завершающие первый уровень.\n",
    "stage_1 = df_source_act[df_source_act['event'] == 'finished_stage_1']['user_id'].unique().tolist()\n",
    "stage_2 = df_source_act[df_source_act['event'] == 'project']['user_id'].unique().tolist()\n",
    "building_type = df_source_act.query('user_id in @stage_1 and user_id in @stage_2 and event == \"building\"').pivot_table(index='building_type', values='user_id', aggfunc='count').reset_index().sort_values('user_id', ascending=False)\n",
    "# building_type['building_type']=building_type.index\n",
    "building_type.plot(x='building_type', y='user_id', kind='bar')\n",
    "plt.xticks(rotation = 20)\n",
    "building_type"
   ]
  },
  {
   "cell_type": "markdown",
   "metadata": {},
   "source": [
    "Вывод. Игроки, проходящие первый уровень, чаще всего строят космопорты - 10788 случаев, на втором и третьем местах assembly_shop(9116)\tи research_center(3697). "
   ]
  },
  {
   "cell_type": "markdown",
   "metadata": {},
   "source": [
    "**Найдем первые события, имеющие место у игроков, завершающих первый уровень.**"
   ]
  },
  {
   "cell_type": "code",
   "execution_count": 29,
   "metadata": {},
   "outputs": [
    {
     "data": {
      "text/html": [
       "<div>\n",
       "<style scoped>\n",
       "    .dataframe tbody tr th:only-of-type {\n",
       "        vertical-align: middle;\n",
       "    }\n",
       "\n",
       "    .dataframe tbody tr th {\n",
       "        vertical-align: top;\n",
       "    }\n",
       "\n",
       "    .dataframe thead th {\n",
       "        text-align: right;\n",
       "    }\n",
       "</style>\n",
       "<table border=\"1\" class=\"dataframe\">\n",
       "  <thead>\n",
       "    <tr style=\"text-align: right;\">\n",
       "      <th></th>\n",
       "      <th>event</th>\n",
       "      <th>user_id</th>\n",
       "    </tr>\n",
       "  </thead>\n",
       "  <tbody>\n",
       "    <tr>\n",
       "      <td>0</td>\n",
       "      <td>building</td>\n",
       "      <td>5817</td>\n",
       "    </tr>\n",
       "    <tr>\n",
       "      <td>1</td>\n",
       "      <td>finished_stage_1</td>\n",
       "      <td>5817</td>\n",
       "    </tr>\n",
       "    <tr>\n",
       "      <td>2</td>\n",
       "      <td>project</td>\n",
       "      <td>1866</td>\n",
       "    </tr>\n",
       "  </tbody>\n",
       "</table>\n",
       "</div>"
      ],
      "text/plain": [
       "              event  user_id\n",
       "0          building     5817\n",
       "1  finished_stage_1     5817\n",
       "2           project     1866"
      ]
     },
     "execution_count": 29,
     "metadata": {},
     "output_type": "execute_result"
    },
    {
     "data": {
      "image/png": "[encoded data removed]",
      "text/plain": [
       "<Figure size 432x288 with 1 Axes>"
      ]
     },
     "metadata": {
      "needs_background": "light"
     },
     "output_type": "display_data"
    }
   ],
   "source": [
    "#Найдем первые события, имеющее место у игроков, завершающих первый уровень. \n",
    "stage_1 = df_source_act[df_source_act['event'] == 'finished_stage_1']['user_id'].unique().tolist()\n",
    "first_event = df_source_act.query('user_id in @stage_1').pivot_table(index=['event', 'user_id'], values='event_datetime', aggfunc='min').reset_index()\n",
    "first_event1 = first_event.pivot_table(index=['event'], values='user_id', aggfunc='count').reset_index().sort_values('user_id', ascending=False)\n",
    "# first_event['event']=first_event.index\n",
    "first_event1.plot(x='event', y='user_id', kind='bar', title = 'Первые события игроков, завершающих первый уровень')\n",
    "plt.xticks(rotation = 20)\n",
    "first_event1"
   ]
  },
  {
   "cell_type": "markdown",
   "metadata": {},
   "source": [
    "Вывод. Первое событие в игре, имеющее место у проходящих первый уровень - 'building'(5817 раз), на втором и третьем местах - 'finished_stage_1\t' и 'project'. Это говорит о том, что большинство начинает игру с построек, finished_stage_1, опередивший 'project' косвенно подтверждает, что боем уровень проходят чаще, чем завершением проекта."
   ]
  },
  {
   "cell_type": "markdown",
   "metadata": {},
   "source": [
    "Игроки предпочитают проходить боем, 3951 боец vs 1866 строителей..."
   ]
  },
  {
   "cell_type": "code",
   "execution_count": 30,
   "metadata": {
    "scrolled": true
   },
   "outputs": [
    {
     "data": {
      "text/html": [
       "<div>\n",
       "<style scoped>\n",
       "    .dataframe tbody tr th:only-of-type {\n",
       "        vertical-align: middle;\n",
       "    }\n",
       "\n",
       "    .dataframe tbody tr th {\n",
       "        vertical-align: top;\n",
       "    }\n",
       "\n",
       "    .dataframe thead th {\n",
       "        text-align: right;\n",
       "    }\n",
       "</style>\n",
       "<table border=\"1\" class=\"dataframe\">\n",
       "  <thead>\n",
       "    <tr style=\"text-align: right;\">\n",
       "      <th></th>\n",
       "      <th>strategy</th>\n",
       "      <th>user_id</th>\n",
       "    </tr>\n",
       "  </thead>\n",
       "  <tbody>\n",
       "    <tr>\n",
       "      <td>0</td>\n",
       "      <td>fight</td>\n",
       "      <td>3951</td>\n",
       "    </tr>\n",
       "    <tr>\n",
       "      <td>1</td>\n",
       "      <td>project</td>\n",
       "      <td>1866</td>\n",
       "    </tr>\n",
       "  </tbody>\n",
       "</table>\n",
       "</div>"
      ],
      "text/plain": [
       "  strategy  user_id\n",
       "0    fight     3951\n",
       "1  project     1866"
      ]
     },
     "execution_count": 30,
     "metadata": {},
     "output_type": "execute_result"
    },
    {
     "data": {
      "image/png": "[encoded data removed]",
      "text/plain": [
       "<Figure size 432x288 with 1 Axes>"
      ]
     },
     "metadata": {
      "needs_background": "light"
     },
     "output_type": "display_data"
    }
   ],
   "source": [
    "df_1 = df_source_act[df_source_act['event'] == 'project']['user_id'].unique().tolist()\n",
    "df_2 = df_source_act[df_source_act['event'] == 'finished_stage_1']['user_id'].unique().tolist()\n",
    "df_fight = df_source_act.query('user_id not in @df_1 and event == \"finished_stage_1\"')\n",
    "df_project = df_source_act.query('user_id in @df_1 and event == \"finished_stage_1\"')\n",
    "df_fight['strategy'] = 'fight'\n",
    "df_project['strategy'] = 'project'\n",
    "prefer_strategy = pd.concat([df_fight,df_project])\n",
    "prefer_strategy = prefer_strategy.groupby(['strategy']).agg({'user_id': 'count'}).reset_index()\n",
    "prefer_strategy.plot(x='strategy', y='user_id', kind='bar', title = 'Предпочтительная стратегия')\n",
    "plt.xticks(rotation = 20)\n",
    "prefer_strategy"
   ]
  },
  {
   "cell_type": "markdown",
   "metadata": {},
   "source": [
    "**Найдем среднюю стоимость привлечения игрока из каждого источника.**"
   ]
  },
  {
   "cell_type": "code",
   "execution_count": 31,
   "metadata": {},
   "outputs": [
    {
     "data": {
      "text/html": [
       "<div>\n",
       "<style scoped>\n",
       "    .dataframe tbody tr th:only-of-type {\n",
       "        vertical-align: middle;\n",
       "    }\n",
       "\n",
       "    .dataframe tbody tr th {\n",
       "        vertical-align: top;\n",
       "    }\n",
       "\n",
       "    .dataframe thead th {\n",
       "        text-align: right;\n",
       "    }\n",
       "</style>\n",
       "<table border=\"1\" class=\"dataframe\">\n",
       "  <thead>\n",
       "    <tr style=\"text-align: right;\">\n",
       "      <th></th>\n",
       "      <th>source</th>\n",
       "      <th>day</th>\n",
       "      <th>cost</th>\n",
       "    </tr>\n",
       "  </thead>\n",
       "  <tbody>\n",
       "    <tr>\n",
       "      <td>0</td>\n",
       "      <td>facebook_ads</td>\n",
       "      <td>2020-05-03</td>\n",
       "      <td>935.882786</td>\n",
       "    </tr>\n",
       "    <tr>\n",
       "      <td>1</td>\n",
       "      <td>facebook_ads</td>\n",
       "      <td>2020-05-04</td>\n",
       "      <td>548.354480</td>\n",
       "    </tr>\n",
       "    <tr>\n",
       "      <td>2</td>\n",
       "      <td>facebook_ads</td>\n",
       "      <td>2020-05-05</td>\n",
       "      <td>260.185754</td>\n",
       "    </tr>\n",
       "    <tr>\n",
       "      <td>3</td>\n",
       "      <td>facebook_ads</td>\n",
       "      <td>2020-05-06</td>\n",
       "      <td>177.982200</td>\n",
       "    </tr>\n",
       "    <tr>\n",
       "      <td>4</td>\n",
       "      <td>facebook_ads</td>\n",
       "      <td>2020-05-07</td>\n",
       "      <td>111.766796</td>\n",
       "    </tr>\n",
       "    <tr>\n",
       "      <td>5</td>\n",
       "      <td>facebook_ads</td>\n",
       "      <td>2020-05-08</td>\n",
       "      <td>68.009276</td>\n",
       "    </tr>\n",
       "    <tr>\n",
       "      <td>6</td>\n",
       "      <td>facebook_ads</td>\n",
       "      <td>2020-05-09</td>\n",
       "      <td>38.723350</td>\n",
       "    </tr>\n",
       "    <tr>\n",
       "      <td>7</td>\n",
       "      <td>instagram_new_adverts</td>\n",
       "      <td>2020-05-03</td>\n",
       "      <td>943.204717</td>\n",
       "    </tr>\n",
       "    <tr>\n",
       "      <td>8</td>\n",
       "      <td>instagram_new_adverts</td>\n",
       "      <td>2020-05-04</td>\n",
       "      <td>502.925451</td>\n",
       "    </tr>\n",
       "    <tr>\n",
       "      <td>9</td>\n",
       "      <td>instagram_new_adverts</td>\n",
       "      <td>2020-05-05</td>\n",
       "      <td>313.970984</td>\n",
       "    </tr>\n",
       "    <tr>\n",
       "      <td>10</td>\n",
       "      <td>instagram_new_adverts</td>\n",
       "      <td>2020-05-06</td>\n",
       "      <td>173.071145</td>\n",
       "    </tr>\n",
       "    <tr>\n",
       "      <td>11</td>\n",
       "      <td>instagram_new_adverts</td>\n",
       "      <td>2020-05-07</td>\n",
       "      <td>109.915254</td>\n",
       "    </tr>\n",
       "    <tr>\n",
       "      <td>12</td>\n",
       "      <td>instagram_new_adverts</td>\n",
       "      <td>2020-05-08</td>\n",
       "      <td>71.578739</td>\n",
       "    </tr>\n",
       "    <tr>\n",
       "      <td>13</td>\n",
       "      <td>instagram_new_adverts</td>\n",
       "      <td>2020-05-09</td>\n",
       "      <td>46.775400</td>\n",
       "    </tr>\n",
       "    <tr>\n",
       "      <td>14</td>\n",
       "      <td>yandex_direct</td>\n",
       "      <td>2020-05-03</td>\n",
       "      <td>969.139394</td>\n",
       "    </tr>\n",
       "    <tr>\n",
       "      <td>15</td>\n",
       "      <td>yandex_direct</td>\n",
       "      <td>2020-05-04</td>\n",
       "      <td>554.651494</td>\n",
       "    </tr>\n",
       "    <tr>\n",
       "      <td>16</td>\n",
       "      <td>yandex_direct</td>\n",
       "      <td>2020-05-05</td>\n",
       "      <td>308.232990</td>\n",
       "    </tr>\n",
       "    <tr>\n",
       "      <td>17</td>\n",
       "      <td>yandex_direct</td>\n",
       "      <td>2020-05-06</td>\n",
       "      <td>180.917099</td>\n",
       "    </tr>\n",
       "    <tr>\n",
       "      <td>18</td>\n",
       "      <td>yandex_direct</td>\n",
       "      <td>2020-05-07</td>\n",
       "      <td>114.429338</td>\n",
       "    </tr>\n",
       "    <tr>\n",
       "      <td>19</td>\n",
       "      <td>yandex_direct</td>\n",
       "      <td>2020-05-08</td>\n",
       "      <td>62.961630</td>\n",
       "    </tr>\n",
       "    <tr>\n",
       "      <td>20</td>\n",
       "      <td>yandex_direct</td>\n",
       "      <td>2020-05-09</td>\n",
       "      <td>42.779505</td>\n",
       "    </tr>\n",
       "    <tr>\n",
       "      <td>21</td>\n",
       "      <td>youtube_channel_reklama</td>\n",
       "      <td>2020-05-03</td>\n",
       "      <td>454.224943</td>\n",
       "    </tr>\n",
       "    <tr>\n",
       "      <td>22</td>\n",
       "      <td>youtube_channel_reklama</td>\n",
       "      <td>2020-05-04</td>\n",
       "      <td>259.073224</td>\n",
       "    </tr>\n",
       "    <tr>\n",
       "      <td>23</td>\n",
       "      <td>youtube_channel_reklama</td>\n",
       "      <td>2020-05-05</td>\n",
       "      <td>147.041741</td>\n",
       "    </tr>\n",
       "    <tr>\n",
       "      <td>24</td>\n",
       "      <td>youtube_channel_reklama</td>\n",
       "      <td>2020-05-06</td>\n",
       "      <td>88.506074</td>\n",
       "    </tr>\n",
       "    <tr>\n",
       "      <td>25</td>\n",
       "      <td>youtube_channel_reklama</td>\n",
       "      <td>2020-05-07</td>\n",
       "      <td>55.740645</td>\n",
       "    </tr>\n",
       "    <tr>\n",
       "      <td>26</td>\n",
       "      <td>youtube_channel_reklama</td>\n",
       "      <td>2020-05-08</td>\n",
       "      <td>40.217907</td>\n",
       "    </tr>\n",
       "    <tr>\n",
       "      <td>27</td>\n",
       "      <td>youtube_channel_reklama</td>\n",
       "      <td>2020-05-09</td>\n",
       "      <td>23.314669</td>\n",
       "    </tr>\n",
       "  </tbody>\n",
       "</table>\n",
       "</div>"
      ],
      "text/plain": [
       "                     source        day        cost\n",
       "0              facebook_ads 2020-05-03  935.882786\n",
       "1              facebook_ads 2020-05-04  548.354480\n",
       "2              facebook_ads 2020-05-05  260.185754\n",
       "3              facebook_ads 2020-05-06  177.982200\n",
       "4              facebook_ads 2020-05-07  111.766796\n",
       "5              facebook_ads 2020-05-08   68.009276\n",
       "6              facebook_ads 2020-05-09   38.723350\n",
       "7     instagram_new_adverts 2020-05-03  943.204717\n",
       "8     instagram_new_adverts 2020-05-04  502.925451\n",
       "9     instagram_new_adverts 2020-05-05  313.970984\n",
       "10    instagram_new_adverts 2020-05-06  173.071145\n",
       "11    instagram_new_adverts 2020-05-07  109.915254\n",
       "12    instagram_new_adverts 2020-05-08   71.578739\n",
       "13    instagram_new_adverts 2020-05-09   46.775400\n",
       "14            yandex_direct 2020-05-03  969.139394\n",
       "15            yandex_direct 2020-05-04  554.651494\n",
       "16            yandex_direct 2020-05-05  308.232990\n",
       "17            yandex_direct 2020-05-06  180.917099\n",
       "18            yandex_direct 2020-05-07  114.429338\n",
       "19            yandex_direct 2020-05-08   62.961630\n",
       "20            yandex_direct 2020-05-09   42.779505\n",
       "21  youtube_channel_reklama 2020-05-03  454.224943\n",
       "22  youtube_channel_reklama 2020-05-04  259.073224\n",
       "23  youtube_channel_reklama 2020-05-05  147.041741\n",
       "24  youtube_channel_reklama 2020-05-06   88.506074\n",
       "25  youtube_channel_reklama 2020-05-07   55.740645\n",
       "26  youtube_channel_reklama 2020-05-08   40.217907\n",
       "27  youtube_channel_reklama 2020-05-09   23.314669"
      ]
     },
     "execution_count": 31,
     "metadata": {},
     "output_type": "execute_result"
    }
   ],
   "source": [
    "df_costs\n",
    "cost = df_costs.groupby(['source']).agg({'cost': 'first'}).reset_index()\n",
    "cost.columns = ['source', 'cost_03']\n",
    "df_costs"
   ]
  },
  {
   "cell_type": "code",
   "execution_count": null,
   "metadata": {},
   "outputs": [],
   "source": []
  },
  {
   "cell_type": "code",
   "execution_count": 42,
   "metadata": {},
   "outputs": [
    {
     "data": {
      "text/html": [
       "<div>\n",
       "<style scoped>\n",
       "    .dataframe tbody tr th:only-of-type {\n",
       "        vertical-align: middle;\n",
       "    }\n",
       "\n",
       "    .dataframe tbody tr th {\n",
       "        vertical-align: top;\n",
       "    }\n",
       "\n",
       "    .dataframe thead th {\n",
       "        text-align: right;\n",
       "    }\n",
       "</style>\n",
       "<table border=\"1\" class=\"dataframe\">\n",
       "  <thead>\n",
       "    <tr style=\"text-align: right;\">\n",
       "      <th></th>\n",
       "      <th>source</th>\n",
       "      <th>cost</th>\n",
       "      <th>cost_03</th>\n",
       "      <th>user_id</th>\n",
       "      <th>mean_cost_by_user</th>\n",
       "    </tr>\n",
       "  </thead>\n",
       "  <tbody>\n",
       "    <tr>\n",
       "      <td>0</td>\n",
       "      <td>facebook_ads</td>\n",
       "      <td>2140.904643</td>\n",
       "      <td>935.882786</td>\n",
       "      <td>2670</td>\n",
       "      <td>0.801837</td>\n",
       "    </tr>\n",
       "    <tr>\n",
       "      <td>1</td>\n",
       "      <td>instagram_new_adverts</td>\n",
       "      <td>2161.441691</td>\n",
       "      <td>943.204717</td>\n",
       "      <td>3277</td>\n",
       "      <td>0.659579</td>\n",
       "    </tr>\n",
       "    <tr>\n",
       "      <td>2</td>\n",
       "      <td>yandex_direct</td>\n",
       "      <td>2233.111449</td>\n",
       "      <td>969.139394</td>\n",
       "      <td>4728</td>\n",
       "      <td>0.472316</td>\n",
       "    </tr>\n",
       "    <tr>\n",
       "      <td>3</td>\n",
       "      <td>youtube_channel_reklama</td>\n",
       "      <td>1068.119204</td>\n",
       "      <td>454.224943</td>\n",
       "      <td>2630</td>\n",
       "      <td>0.406129</td>\n",
       "    </tr>\n",
       "  </tbody>\n",
       "</table>\n",
       "</div>"
      ],
      "text/plain": [
       "                    source         cost     cost_03  user_id  \\\n",
       "0             facebook_ads  2140.904643  935.882786     2670   \n",
       "1    instagram_new_adverts  2161.441691  943.204717     3277   \n",
       "2            yandex_direct  2233.111449  969.139394     4728   \n",
       "3  youtube_channel_reklama  1068.119204  454.224943     2630   \n",
       "\n",
       "   mean_cost_by_user  \n",
       "0           0.801837  \n",
       "1           0.659579  \n",
       "2           0.472316  \n",
       "3           0.406129  "
      ]
     },
     "execution_count": 42,
     "metadata": {},
     "output_type": "execute_result"
    },
    {
     "data": {
      "image/png": "[encoded data removed]",
      "text/plain": [
       "<Figure size 432x288 with 1 Axes>"
      ]
     },
     "metadata": {
      "needs_background": "light"
     },
     "output_type": "display_data"
    }
   ],
   "source": [
    "df_source_act_cost = df_source_act.merge(df_costs,on=['day','source'])\n",
    "source_cost1 = df_source_act_cost.groupby(['source', 'day']).agg({'cost': 'unique'}).reset_index()\n",
    "source_cost1 = source_cost1.groupby(['source']).agg({'cost': 'sum'}).reset_index()\n",
    "un_users= df_source_act_cost.groupby(['source']).agg({'user_id': 'nunique'}).reset_index()\n",
    "source_cost1 =source_cost1.merge(cost,on=['source'])\n",
    "source_cost1 =source_cost1.merge(un_users,on=['source'])\n",
    "source_cost1['cost'] = source_cost1['cost'] + source_cost1['cost_03']\n",
    "source_cost1['mean_cost_by_user'] = source_cost1['cost']/source_cost1['user_id']\n",
    "# source_cost1\n",
    "source_cost1.plot(x='source', y='mean_cost_by_user', kind='bar', title = 'Средняя стоимость привлечения игрока из источника')\n",
    "plt.xticks(rotation = 20)\n",
    "plt.yticks(label = 'cost')\n",
    "source_cost1"
   ]
  },
  {
   "cell_type": "markdown",
   "metadata": {},
   "source": [
    "Вывод. Самым дорогостоящим по средней стоимости клика источника оказался игрок, пришедший из источника 'facebook_ads'. За ним следуют игроки из 'instagram_new_adverts' и 'yandex_direct'."
   ]
  },
  {
   "cell_type": "markdown",
   "metadata": {},
   "source": [
    "**Шаг 4. Проверим статистические гипотезы.**"
   ]
  },
  {
   "cell_type": "markdown",
   "metadata": {},
   "source": [
    "Подготовим данные."
   ]
  },
  {
   "cell_type": "code",
   "execution_count": 32,
   "metadata": {},
   "outputs": [],
   "source": [
    "df = pd.read_csv('/datasets/game_actions.csv')"
   ]
  },
  {
   "cell_type": "code",
   "execution_count": 33,
   "metadata": {},
   "outputs": [],
   "source": [
    "first_event = df.groupby('user_id')['event_datetime'].min()\n",
    "first_event.name = 'first_event'\n",
    "df = pd.merge(df,first_event,on='user_id')"
   ]
  },
  {
   "cell_type": "code",
   "execution_count": 34,
   "metadata": {},
   "outputs": [],
   "source": [
    "last_event = df.groupby('user_id')['event_datetime'].max()\n",
    "last_event.name = 'last_event'\n",
    "df = pd.merge(df,last_event,on='user_id')"
   ]
  },
  {
   "cell_type": "code",
   "execution_count": 60,
   "metadata": {},
   "outputs": [],
   "source": [
    "df['event_time'] = (df['last_event'].astype('datetime64') - df['first_event'].astype('datetime64')).dt.days.astype(int)"
   ]
  },
  {
   "cell_type": "code",
   "execution_count": 61,
   "metadata": {},
   "outputs": [
    {
     "data": {
      "text/html": [
       "<div>\n",
       "<style scoped>\n",
       "    .dataframe tbody tr th:only-of-type {\n",
       "        vertical-align: middle;\n",
       "    }\n",
       "\n",
       "    .dataframe tbody tr th {\n",
       "        vertical-align: top;\n",
       "    }\n",
       "\n",
       "    .dataframe thead th {\n",
       "        text-align: right;\n",
       "    }\n",
       "</style>\n",
       "<table border=\"1\" class=\"dataframe\">\n",
       "  <thead>\n",
       "    <tr style=\"text-align: right;\">\n",
       "      <th></th>\n",
       "      <th>event_datetime</th>\n",
       "      <th>event</th>\n",
       "      <th>building_type</th>\n",
       "      <th>user_id</th>\n",
       "      <th>project_type</th>\n",
       "      <th>first_event</th>\n",
       "      <th>last_event</th>\n",
       "      <th>event_time</th>\n",
       "      <th>strategy_x</th>\n",
       "      <th>strategy_y</th>\n",
       "    </tr>\n",
       "  </thead>\n",
       "  <tbody>\n",
       "    <tr>\n",
       "      <td>0</td>\n",
       "      <td>2020-05-04 00:00:01</td>\n",
       "      <td>building</td>\n",
       "      <td>assembly_shop</td>\n",
       "      <td>55e92310-cb8e-4754-b622-597e124b03de</td>\n",
       "      <td>NaN</td>\n",
       "      <td>2020-05-04 00:00:01</td>\n",
       "      <td>2020-05-10 20:27:01</td>\n",
       "      <td>6</td>\n",
       "      <td>NaN</td>\n",
       "      <td>NaN</td>\n",
       "    </tr>\n",
       "    <tr>\n",
       "      <td>1</td>\n",
       "      <td>2020-05-05 05:20:15</td>\n",
       "      <td>building</td>\n",
       "      <td>assembly_shop</td>\n",
       "      <td>55e92310-cb8e-4754-b622-597e124b03de</td>\n",
       "      <td>NaN</td>\n",
       "      <td>2020-05-04 00:00:01</td>\n",
       "      <td>2020-05-10 20:27:01</td>\n",
       "      <td>6</td>\n",
       "      <td>NaN</td>\n",
       "      <td>NaN</td>\n",
       "    </tr>\n",
       "    <tr>\n",
       "      <td>2</td>\n",
       "      <td>2020-05-05 19:24:02</td>\n",
       "      <td>building</td>\n",
       "      <td>assembly_shop</td>\n",
       "      <td>55e92310-cb8e-4754-b622-597e124b03de</td>\n",
       "      <td>NaN</td>\n",
       "      <td>2020-05-04 00:00:01</td>\n",
       "      <td>2020-05-10 20:27:01</td>\n",
       "      <td>6</td>\n",
       "      <td>NaN</td>\n",
       "      <td>NaN</td>\n",
       "    </tr>\n",
       "    <tr>\n",
       "      <td>3</td>\n",
       "      <td>2020-05-05 20:59:19</td>\n",
       "      <td>building</td>\n",
       "      <td>assembly_shop</td>\n",
       "      <td>55e92310-cb8e-4754-b622-597e124b03de</td>\n",
       "      <td>NaN</td>\n",
       "      <td>2020-05-04 00:00:01</td>\n",
       "      <td>2020-05-10 20:27:01</td>\n",
       "      <td>6</td>\n",
       "      <td>NaN</td>\n",
       "      <td>NaN</td>\n",
       "    </tr>\n",
       "    <tr>\n",
       "      <td>4</td>\n",
       "      <td>2020-05-06 00:52:56</td>\n",
       "      <td>building</td>\n",
       "      <td>assembly_shop</td>\n",
       "      <td>55e92310-cb8e-4754-b622-597e124b03de</td>\n",
       "      <td>NaN</td>\n",
       "      <td>2020-05-04 00:00:01</td>\n",
       "      <td>2020-05-10 20:27:01</td>\n",
       "      <td>6</td>\n",
       "      <td>NaN</td>\n",
       "      <td>NaN</td>\n",
       "    </tr>\n",
       "    <tr>\n",
       "      <td>...</td>\n",
       "      <td>...</td>\n",
       "      <td>...</td>\n",
       "      <td>...</td>\n",
       "      <td>...</td>\n",
       "      <td>...</td>\n",
       "      <td>...</td>\n",
       "      <td>...</td>\n",
       "      <td>...</td>\n",
       "      <td>...</td>\n",
       "      <td>...</td>\n",
       "    </tr>\n",
       "    <tr>\n",
       "      <td>135635</td>\n",
       "      <td>2020-05-13 23:56:39</td>\n",
       "      <td>building</td>\n",
       "      <td>spaceport</td>\n",
       "      <td>cafd1b8b-507b-49ae-abf0-89fe863a8b03</td>\n",
       "      <td>NaN</td>\n",
       "      <td>2020-05-10 23:57:56</td>\n",
       "      <td>2020-05-18 00:23:28</td>\n",
       "      <td>7</td>\n",
       "      <td>NaN</td>\n",
       "      <td>NaN</td>\n",
       "    </tr>\n",
       "    <tr>\n",
       "      <td>135636</td>\n",
       "      <td>2020-05-18 00:23:28</td>\n",
       "      <td>building</td>\n",
       "      <td>spaceport</td>\n",
       "      <td>cafd1b8b-507b-49ae-abf0-89fe863a8b03</td>\n",
       "      <td>NaN</td>\n",
       "      <td>2020-05-10 23:57:56</td>\n",
       "      <td>2020-05-18 00:23:28</td>\n",
       "      <td>7</td>\n",
       "      <td>NaN</td>\n",
       "      <td>NaN</td>\n",
       "    </tr>\n",
       "    <tr>\n",
       "      <td>135637</td>\n",
       "      <td>2020-05-10 23:59:52</td>\n",
       "      <td>building</td>\n",
       "      <td>assembly_shop</td>\n",
       "      <td>bdc53e19-462a-4dc3-8b55-b4a34278af6a</td>\n",
       "      <td>NaN</td>\n",
       "      <td>2020-05-10 23:59:52</td>\n",
       "      <td>2020-05-18 11:11:11</td>\n",
       "      <td>7</td>\n",
       "      <td>NaN</td>\n",
       "      <td>NaN</td>\n",
       "    </tr>\n",
       "    <tr>\n",
       "      <td>135638</td>\n",
       "      <td>2020-05-13 08:11:19</td>\n",
       "      <td>building</td>\n",
       "      <td>spaceport</td>\n",
       "      <td>bdc53e19-462a-4dc3-8b55-b4a34278af6a</td>\n",
       "      <td>NaN</td>\n",
       "      <td>2020-05-10 23:59:52</td>\n",
       "      <td>2020-05-18 11:11:11</td>\n",
       "      <td>7</td>\n",
       "      <td>NaN</td>\n",
       "      <td>NaN</td>\n",
       "    </tr>\n",
       "    <tr>\n",
       "      <td>135639</td>\n",
       "      <td>2020-05-18 11:11:11</td>\n",
       "      <td>building</td>\n",
       "      <td>spaceport</td>\n",
       "      <td>bdc53e19-462a-4dc3-8b55-b4a34278af6a</td>\n",
       "      <td>NaN</td>\n",
       "      <td>2020-05-10 23:59:52</td>\n",
       "      <td>2020-05-18 11:11:11</td>\n",
       "      <td>7</td>\n",
       "      <td>NaN</td>\n",
       "      <td>NaN</td>\n",
       "    </tr>\n",
       "  </tbody>\n",
       "</table>\n",
       "<p>135640 rows × 10 columns</p>\n",
       "</div>"
      ],
      "text/plain": [
       "             event_datetime     event  building_type  \\\n",
       "0       2020-05-04 00:00:01  building  assembly_shop   \n",
       "1       2020-05-05 05:20:15  building  assembly_shop   \n",
       "2       2020-05-05 19:24:02  building  assembly_shop   \n",
       "3       2020-05-05 20:59:19  building  assembly_shop   \n",
       "4       2020-05-06 00:52:56  building  assembly_shop   \n",
       "...                     ...       ...            ...   \n",
       "135635  2020-05-13 23:56:39  building      spaceport   \n",
       "135636  2020-05-18 00:23:28  building      spaceport   \n",
       "135637  2020-05-10 23:59:52  building  assembly_shop   \n",
       "135638  2020-05-13 08:11:19  building      spaceport   \n",
       "135639  2020-05-18 11:11:11  building      spaceport   \n",
       "\n",
       "                                     user_id project_type  \\\n",
       "0       55e92310-cb8e-4754-b622-597e124b03de          NaN   \n",
       "1       55e92310-cb8e-4754-b622-597e124b03de          NaN   \n",
       "2       55e92310-cb8e-4754-b622-597e124b03de          NaN   \n",
       "3       55e92310-cb8e-4754-b622-597e124b03de          NaN   \n",
       "4       55e92310-cb8e-4754-b622-597e124b03de          NaN   \n",
       "...                                      ...          ...   \n",
       "135635  cafd1b8b-507b-49ae-abf0-89fe863a8b03          NaN   \n",
       "135636  cafd1b8b-507b-49ae-abf0-89fe863a8b03          NaN   \n",
       "135637  bdc53e19-462a-4dc3-8b55-b4a34278af6a          NaN   \n",
       "135638  bdc53e19-462a-4dc3-8b55-b4a34278af6a          NaN   \n",
       "135639  bdc53e19-462a-4dc3-8b55-b4a34278af6a          NaN   \n",
       "\n",
       "                first_event           last_event  event_time  strategy_x  \\\n",
       "0       2020-05-04 00:00:01  2020-05-10 20:27:01           6         NaN   \n",
       "1       2020-05-04 00:00:01  2020-05-10 20:27:01           6         NaN   \n",
       "2       2020-05-04 00:00:01  2020-05-10 20:27:01           6         NaN   \n",
       "3       2020-05-04 00:00:01  2020-05-10 20:27:01           6         NaN   \n",
       "4       2020-05-04 00:00:01  2020-05-10 20:27:01           6         NaN   \n",
       "...                     ...                  ...         ...         ...   \n",
       "135635  2020-05-10 23:57:56  2020-05-18 00:23:28           7         NaN   \n",
       "135636  2020-05-10 23:57:56  2020-05-18 00:23:28           7         NaN   \n",
       "135637  2020-05-10 23:59:52  2020-05-18 11:11:11           7         NaN   \n",
       "135638  2020-05-10 23:59:52  2020-05-18 11:11:11           7         NaN   \n",
       "135639  2020-05-10 23:59:52  2020-05-18 11:11:11           7         NaN   \n",
       "\n",
       "        strategy_y  \n",
       "0              NaN  \n",
       "1              NaN  \n",
       "2              NaN  \n",
       "3              NaN  \n",
       "4              NaN  \n",
       "...            ...  \n",
       "135635         NaN  \n",
       "135636         NaN  \n",
       "135637         NaN  \n",
       "135638         NaN  \n",
       "135639         NaN  \n",
       "\n",
       "[135640 rows x 10 columns]"
      ]
     },
     "execution_count": 61,
     "metadata": {},
     "output_type": "execute_result"
    }
   ],
   "source": [
    "df"
   ]
  },
  {
   "cell_type": "markdown",
   "metadata": {},
   "source": [
    "Напишем функцию для отсечения выбросов. Чтобы использовать t-критерий Стьюдента, оставим только нормальные значения из датасетов."
   ]
  },
  {
   "cell_type": "code",
   "execution_count": 62,
   "metadata": {},
   "outputs": [],
   "source": [
    "def outliers_del(df, column):\n",
    "    q1 = df[column].quantile(0.25)                 \n",
    "    q3 = df[column].quantile(0.75)\n",
    "    mq = q3 - q1\n",
    "    norm = (df[column] >= (q1 - 1.5 * mq)) & (df[column] <= (q3 + 1.5 * mq))\n",
    "    return df.loc[norm]"
   ]
  },
  {
   "cell_type": "markdown",
   "metadata": {},
   "source": [
    "Будем использовать t-критерий Стьюдента, так как сравниваемые выборки независимы между собой.\n",
    "Гипотеза о равенстве средних двух генеральных совокупностей №1."
   ]
  },
  {
   "cell_type": "markdown",
   "metadata": {},
   "source": [
    "Сформулируем гипотезы:\n",
    "\n",
    "- H0: время завершения уровня не различается в зависимости способа прохождения;\n",
    "- H1: время завершения уровня различается в зависимости способа прохождения."
   ]
  },
  {
   "cell_type": "code",
   "execution_count": 63,
   "metadata": {},
   "outputs": [],
   "source": [
    "df_event = df.query('event == \"project\" or event == \"finished_stage_1\"').groupby('user_id').agg({'event':'count'}).reset_index()\n",
    "df_event = df_event.set_index('user_id')\n",
    "df_event.name = 'df_event'\n",
    "df_event.columns = ['strategy']\n",
    "df = pd.merge(df,df_event,on='user_id', how = 'left')"
   ]
  },
  {
   "cell_type": "code",
   "execution_count": 64,
   "metadata": {},
   "outputs": [],
   "source": [
    "df_project = df.query('strategy == 2')\n",
    "df_project = df_project.groupby(['user_id', 'event_time'])['event'].count().reset_index()"
   ]
  },
  {
   "cell_type": "code",
   "execution_count": 65,
   "metadata": {},
   "outputs": [],
   "source": [
    "df_fight = df.query('strategy == 1')\n",
    "df_fight = df_fight.groupby(['user_id', 'event_time'])['event'].count().reset_index()"
   ]
  },
  {
   "cell_type": "code",
   "execution_count": 66,
   "metadata": {},
   "outputs": [],
   "source": [
    "df_project = outliers_del(df_project, 'event_time')\n",
    "df_project = df_project['event_time']\n",
    "df_fight = outliers_del(df_fight, 'event_time')\n",
    "df_fight = df_fight['event_time']"
   ]
  },
  {
   "cell_type": "code",
   "execution_count": 67,
   "metadata": {},
   "outputs": [
    {
     "data": {
      "text/plain": [
       "count    3884.000000\n",
       "mean       10.410659\n",
       "std         3.775028\n",
       "min         1.000000\n",
       "25%         8.000000\n",
       "50%        10.000000\n",
       "75%        13.000000\n",
       "max        20.000000\n",
       "Name: event_time, dtype: float64"
      ]
     },
     "execution_count": 67,
     "metadata": {},
     "output_type": "execute_result"
    }
   ],
   "source": [
    "df_fight.describe()"
   ]
  },
  {
   "cell_type": "code",
   "execution_count": 68,
   "metadata": {},
   "outputs": [
    {
     "data": {
      "text/plain": [
       "count    1845.000000\n",
       "mean       12.823848\n",
       "std         3.290009\n",
       "min         5.000000\n",
       "25%        10.000000\n",
       "50%        12.000000\n",
       "75%        15.000000\n",
       "max        22.000000\n",
       "Name: event_time, dtype: float64"
      ]
     },
     "execution_count": 68,
     "metadata": {},
     "output_type": "execute_result"
    }
   ],
   "source": [
    "df_project.describe()"
   ]
  },
  {
   "cell_type": "code",
   "execution_count": 69,
   "metadata": {},
   "outputs": [],
   "source": [
    "alpha = 0.05"
   ]
  },
  {
   "cell_type": "code",
   "execution_count": 70,
   "metadata": {},
   "outputs": [],
   "source": [
    "results = st.ttest_ind(df_project, df_fight)"
   ]
  },
  {
   "cell_type": "code",
   "execution_count": 71,
   "metadata": {},
   "outputs": [
    {
     "name": "stdout",
     "output_type": "stream",
     "text": [
      "p-значение: 5.1497252832628056e-117\n",
      "Отвергаем нулевую гипотезу\n"
     ]
    }
   ],
   "source": [
    "print('p-значение:', results.pvalue)\n",
    "\n",
    "if (results.pvalue < alpha):\n",
    "    print(\"Отвергаем нулевую гипотезу\")\n",
    "else:\n",
    "    print(\"Не получилось отвергнуть нулевую гипотезу\")"
   ]
  },
  {
   "cell_type": "markdown",
   "metadata": {},
   "source": [
    "Вывод. Отвергаем нулевую гипотезу. Следовательно, значимые различия есть. Среднее время завершения уровня различается в зависимости способа прохождения."
   ]
  },
  {
   "cell_type": "markdown",
   "metadata": {},
   "source": [
    "Исправила..."
   ]
  },
  {
   "cell_type": "markdown",
   "metadata": {},
   "source": [
    "В среднем, игроки, предпочитающие проходить уровень боем, проходят уровень за 10 дней, а игроки, создающие постройки - за 12 дней."
   ]
  },
  {
   "cell_type": "markdown",
   "metadata": {},
   "source": [
    "**Проверим гипотезу: - проходящие уровень боем строят меньше объектов, чем реализующие проект.**"
   ]
  },
  {
   "cell_type": "markdown",
   "metadata": {},
   "source": [
    "Сформулируем гипотезы:\n",
    "Проверим гипотезу: - проходящие уровень боем строят меньше объектов, чем реализующие проект.  \n",
    "- H0: количество построенных объектов не различается в зависимости способа прохождения;\n",
    "- H1: количество построенных объектов различается в зависимости способа прохождения."
   ]
  },
  {
   "cell_type": "markdown",
   "metadata": {},
   "source": [
    "Найдем события постройки у бойцов:"
   ]
  },
  {
   "cell_type": "code",
   "execution_count": 101,
   "metadata": {},
   "outputs": [],
   "source": [
    "df_1 = df[df['event'] == 'project']['user_id'].unique().tolist()\n",
    "df_2 = df[df['event'] == 'finished_stage_1']['user_id'].unique().tolist()\n",
    "df_fight = df.query('user_id not in @df_1 and user_id in @df_2 and event == \"building\"')\n",
    "df_fight = df_fight.groupby('user_id')['building_type'].count().reset_index()\n",
    "df_fight.columns = ['user_id', 'building_count']\n",
    "df_fight = df_fight['building_count'].reset_index()\n"
   ]
  },
  {
   "cell_type": "markdown",
   "metadata": {},
   "source": [
    "Найдем события постройки у строителей:"
   ]
  },
  {
   "cell_type": "code",
   "execution_count": 102,
   "metadata": {},
   "outputs": [],
   "source": [
    "df_project = df.query('user_id in @df_1 and user_id in @df_2 and event == \"building\"')\n",
    "df_project = df_project.groupby('user_id')['building_type'].count().reset_index()\n",
    "df_project.columns = ['user_id', 'building_count']\n",
    "df_project = df_project['building_count'].reset_index()"
   ]
  },
  {
   "cell_type": "markdown",
   "metadata": {},
   "source": [
    "Посмотрим распределения обеих выборок."
   ]
  },
  {
   "cell_type": "code",
   "execution_count": 103,
   "metadata": {},
   "outputs": [
    {
     "data": {
      "image/png": "[encoded data removed]",
      "text/plain": [
       "<Figure size 1080x720 with 1 Axes>"
      ]
     },
     "metadata": {
      "needs_background": "light"
     },
     "output_type": "display_data"
    }
   ],
   "source": [
    "plt.figure(figsize=(15, 10))\n",
    "plt.hist([df_fight['building_count'], df_project['building_count']], label=['fight_building', 'project_building'])\n",
    "plt.legend(loc='upper left')\n",
    "plt.title('Распределение количества построек при разных тактиках')\n",
    "plt.show()"
   ]
  },
  {
   "cell_type": "code",
   "execution_count": 104,
   "metadata": {},
   "outputs": [],
   "source": [
    "alpha = 0.05"
   ]
  },
  {
   "cell_type": "code",
   "execution_count": 105,
   "metadata": {},
   "outputs": [],
   "source": [
    "results = st.ttest_ind(df_fight['building_count'], df_project['building_count'])"
   ]
  },
  {
   "cell_type": "code",
   "execution_count": 106,
   "metadata": {},
   "outputs": [
    {
     "name": "stdout",
     "output_type": "stream",
     "text": [
      "p-значение: 0.0\n",
      "Отвергаем нулевую гипотезу\n"
     ]
    }
   ],
   "source": [
    "print('p-значение:', results.pvalue)\n",
    "\n",
    "if (results.pvalue < alpha):\n",
    "    print(\"Отвергаем нулевую гипотезу\")\n",
    "else:\n",
    "    print(\"Не получилось отвергнуть нулевую гипотезу\")"
   ]
  },
  {
   "cell_type": "markdown",
   "metadata": {},
   "source": [
    "Вывод. С вероятностью в 0.0% такой результат может быть получен случайно. Следовательно, значимые различия есть. Количество построенных объектов различается в зависимости способа прохождения. В среднем, проходящие уровень боем строят около 9 зданий, а реализующие проект-12."
   ]
  },
  {
   "cell_type": "code",
   "execution_count": 107,
   "metadata": {},
   "outputs": [
    {
     "data": {
      "text/html": [
       "<div>\n",
       "<style scoped>\n",
       "    .dataframe tbody tr th:only-of-type {\n",
       "        vertical-align: middle;\n",
       "    }\n",
       "\n",
       "    .dataframe tbody tr th {\n",
       "        vertical-align: top;\n",
       "    }\n",
       "\n",
       "    .dataframe thead th {\n",
       "        text-align: right;\n",
       "    }\n",
       "</style>\n",
       "<table border=\"1\" class=\"dataframe\">\n",
       "  <thead>\n",
       "    <tr style=\"text-align: right;\">\n",
       "      <th></th>\n",
       "      <th>index</th>\n",
       "      <th>building_count</th>\n",
       "    </tr>\n",
       "  </thead>\n",
       "  <tbody>\n",
       "    <tr>\n",
       "      <td>count</td>\n",
       "      <td>1866.000000</td>\n",
       "      <td>1866.000000</td>\n",
       "    </tr>\n",
       "    <tr>\n",
       "      <td>mean</td>\n",
       "      <td>932.500000</td>\n",
       "      <td>12.647910</td>\n",
       "    </tr>\n",
       "    <tr>\n",
       "      <td>std</td>\n",
       "      <td>538.812119</td>\n",
       "      <td>2.162522</td>\n",
       "    </tr>\n",
       "    <tr>\n",
       "      <td>min</td>\n",
       "      <td>0.000000</td>\n",
       "      <td>10.000000</td>\n",
       "    </tr>\n",
       "    <tr>\n",
       "      <td>25%</td>\n",
       "      <td>466.250000</td>\n",
       "      <td>11.000000</td>\n",
       "    </tr>\n",
       "    <tr>\n",
       "      <td>50%</td>\n",
       "      <td>932.500000</td>\n",
       "      <td>12.000000</td>\n",
       "    </tr>\n",
       "    <tr>\n",
       "      <td>75%</td>\n",
       "      <td>1398.750000</td>\n",
       "      <td>14.000000</td>\n",
       "    </tr>\n",
       "    <tr>\n",
       "      <td>max</td>\n",
       "      <td>1865.000000</td>\n",
       "      <td>20.000000</td>\n",
       "    </tr>\n",
       "  </tbody>\n",
       "</table>\n",
       "</div>"
      ],
      "text/plain": [
       "             index  building_count\n",
       "count  1866.000000     1866.000000\n",
       "mean    932.500000       12.647910\n",
       "std     538.812119        2.162522\n",
       "min       0.000000       10.000000\n",
       "25%     466.250000       11.000000\n",
       "50%     932.500000       12.000000\n",
       "75%    1398.750000       14.000000\n",
       "max    1865.000000       20.000000"
      ]
     },
     "execution_count": 107,
     "metadata": {},
     "output_type": "execute_result"
    }
   ],
   "source": [
    "df_project.describe()"
   ]
  },
  {
   "cell_type": "code",
   "execution_count": 108,
   "metadata": {},
   "outputs": [
    {
     "data": {
      "text/html": [
       "<div>\n",
       "<style scoped>\n",
       "    .dataframe tbody tr th:only-of-type {\n",
       "        vertical-align: middle;\n",
       "    }\n",
       "\n",
       "    .dataframe tbody tr th {\n",
       "        vertical-align: top;\n",
       "    }\n",
       "\n",
       "    .dataframe thead th {\n",
       "        text-align: right;\n",
       "    }\n",
       "</style>\n",
       "<table border=\"1\" class=\"dataframe\">\n",
       "  <thead>\n",
       "    <tr style=\"text-align: right;\">\n",
       "      <th></th>\n",
       "      <th>index</th>\n",
       "      <th>building_count</th>\n",
       "    </tr>\n",
       "  </thead>\n",
       "  <tbody>\n",
       "    <tr>\n",
       "      <td>count</td>\n",
       "      <td>3951.000000</td>\n",
       "      <td>3951.000000</td>\n",
       "    </tr>\n",
       "    <tr>\n",
       "      <td>mean</td>\n",
       "      <td>1975.000000</td>\n",
       "      <td>9.411541</td>\n",
       "    </tr>\n",
       "    <tr>\n",
       "      <td>std</td>\n",
       "      <td>1140.699785</td>\n",
       "      <td>3.059529</td>\n",
       "    </tr>\n",
       "    <tr>\n",
       "      <td>min</td>\n",
       "      <td>0.000000</td>\n",
       "      <td>2.000000</td>\n",
       "    </tr>\n",
       "    <tr>\n",
       "      <td>25%</td>\n",
       "      <td>987.500000</td>\n",
       "      <td>8.000000</td>\n",
       "    </tr>\n",
       "    <tr>\n",
       "      <td>50%</td>\n",
       "      <td>1975.000000</td>\n",
       "      <td>10.000000</td>\n",
       "    </tr>\n",
       "    <tr>\n",
       "      <td>75%</td>\n",
       "      <td>2962.500000</td>\n",
       "      <td>12.000000</td>\n",
       "    </tr>\n",
       "    <tr>\n",
       "      <td>max</td>\n",
       "      <td>3950.000000</td>\n",
       "      <td>19.000000</td>\n",
       "    </tr>\n",
       "  </tbody>\n",
       "</table>\n",
       "</div>"
      ],
      "text/plain": [
       "             index  building_count\n",
       "count  3951.000000     3951.000000\n",
       "mean   1975.000000        9.411541\n",
       "std    1140.699785        3.059529\n",
       "min       0.000000        2.000000\n",
       "25%     987.500000        8.000000\n",
       "50%    1975.000000       10.000000\n",
       "75%    2962.500000       12.000000\n",
       "max    3950.000000       19.000000"
      ]
     },
     "execution_count": 108,
     "metadata": {},
     "output_type": "execute_result"
    }
   ],
   "source": [
    "df_fight.describe()"
   ]
  },
  {
   "cell_type": "markdown",
   "metadata": {},
   "source": [
    "В среднем, проходящие уровень боем строят около 9 зданий, а реализующие проект-12."
   ]
  },
  {
   "cell_type": "markdown",
   "metadata": {},
   "source": [
    "**Вывод.**"
   ]
  },
  {
   "cell_type": "markdown",
   "metadata": {},
   "source": [
    "3.1 Посчитали метрики отдельно по каждому источнику.(DAU, WAU, MAU)  \n",
    "Как мы увидели на графике DAU, в разрезе по источникам, заметно, что большинство пользователей приходит из источника 'yandex_direct', на втором месте 'instagram_new_adverts', на третьем соперничают 'facebook_ads' и 'youtube_channel_reklama'. Метрики DAU и WAU подтверждают это наблюдение. Независимо от успешности того или иного источника, пользователи уходят к концу исследуемого периода. В связи с этим было интересно посмотреть, как ведут себя когорты пользователей, пришедшие в игру в период с 4 по 10 мая включительно.  \n",
    "\n",
    "3.2 Определили когорты пользователей и посчитали Retention Rate. Хотя мы имеем небольшой по времени объем данных, чтобы констатировать тенденцию, мы можем заметить,что Retention Rate в первую неделю убывает по когортам с течением времени. Похоже, что тепловая карта отражает больший приток пользователей в \"майские каникулы\" и их меньшую заинтересованность, когда праздничные дни оказались позади. Когорта от 10 мая показывает наихудшие показатели. С каждой новой когортой поведение покупателей меняется не в лучшую сторону. Также с течением времени пользователей становится все меньше, нет стабильных промежутков. После 15 мая Retention Rate значительно падает по всем когортам.  \n",
    "\n",
    "3.3 Определив, из какого источника приходят пользователи, прошедшие уровень, мы наблюдаем, чаще всего они приходят из 'yandex_direct', почти в полтора раза меньше пользователей из instagram_new_adverts', в два раза меньше - из 'youtube_channel_reklama' и из'facebook_ads'.  \n",
    "\n",
    "3.4 Мы определили распределение, какие типы построек чаще выбирают игроки, завершающие первый уровень реализацией проекта. Игроки, проходящие первый уровень реализацией проекта, чаще всего строят космопорты - 10788 случаев, на втором и третьем местах assembly_shop(9116)\tи research_center(3697). Можно предположить, что они определяются со стратегией прохождения уровня уже на второй постройке, тогда рекламу им можно демонстрировать на окне выбора второй и последующей построек, это не должно их отпугнуть, они нашли свое призвание - строить, а не убивать.  \n",
    "\n",
    "3.5 Мы нашли события, которые совершают игроки, проходящие уровень. Первое событие в игре - 'building'(5817 раз), на втором и третьем местах - 'finished_stage_1 ' и 'project'. Это говорит о том, что пользователи чаще начинают игру с построек, а событие finished_stage_1, опередившее 'project', косвенно подтверждает, что боем уровень проходят чаще, чем завершением проекта. Однако, не следует отображать рекламу на окне выбора первой постройки, это может отпугнуть, как \"бойцов\", так и \"строителей\". В расчете на удержание игроков, проходящих уровень боем, можно запланировать показ рекламы сразу после прохождения ими первого уровня, они уже заинтересованы и воодушевлены первой победой, отпугнуть их рекламой в этот момент будет не так рискованно.  \n",
    "\n",
    "3.6 Мы нашли среднюю стоимость привлечения игрока из каждого источника. Самым дорогостоящим по средней стоимости клика в источнике оказался игрок, пришедший из источника 'yandex_direct'(185). За ним следуют игроки из 'instagram_new_adverts' и 'facebook_ads'. 'yandex_direct' - выгодный канал, следует продолжать и далее в него вкладывать, он дает большую часть пользователей, проходящих уровень. 'instagram_new_adverts'(179) и 'facebook_ads'(175) немного отстают по средней цене клика, в 'youtube_channel_reklama'(90) - самый дешевый клик, но и пользователей из него приходит меньше, чем из остальных каналов.  \n",
    "\n",
    "4.1 При проверке статистической гипотезы о том, что время завершения уровня различается в зависимости способа прохождения: через реализацию проекта, через победу над первым игроком, мы выяснили, что среднее время завершения уровня не различается в зависимости способа прохождения. Это скорее ожидаемое заключение, так как потенциально стратегии должны быть реализуемы с приложением соизмеримых усилий.  \n",
    "\n",
    "4.2 При проверке статистической гипотезы о том, что количество построенных объектов не различается в зависимости способа прохождения, мы выяснили, что количество построенных объектов различается в зависимости способа прохождения. В среднем, проходящие уровень боем строят около 9 зданий, а реализующие проект-12. Это также ожидаемое заключение, игрокам, ищущим сражений, не до постройки космопорта, это тоже можно учесть при планировании демонстрации рекламных объявлений/виджетов, например включать их также в окно предвыбора типа постройки начиная с 10-го здания, таким образом, игроки, уже выбравшие стратегию постройки и близкие к своей цели, останутся с нами.  \n",
    "\n",
    "Также показ рекламы следует планировать сразу после прохождения игроками первого уровня.\n"
   ]
  }
 ],
 "metadata": {
  "kernelspec": {
   "display_name": "Python 3",
   "language": "python",
   "name": "python3"
  },
  "language_info": {
   "codemirror_mode": {
    "name": "ipython",
    "version": 3
   },
   "file_extension": ".py",
   "mimetype": "text/x-python",
   "name": "python",
   "nbconvert_exporter": "python",
   "pygments_lexer": "ipython3",
   "version": "3.8.3"
  }
 },
 "nbformat": 4,
 "nbformat_minor": 2
}
